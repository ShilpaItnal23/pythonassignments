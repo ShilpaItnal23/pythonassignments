{
 "cells": [
  {
   "cell_type": "markdown",
   "id": "9c78b06a",
   "metadata": {},
   "source": [
    "### 1. What exactly is []?"
   ]
  },
  {
   "cell_type": "markdown",
   "id": "258814e5",
   "metadata": {},
   "source": [
    "#### It is an empty list, which contains no value, just like an empty string, ''."
   ]
  },
  {
   "cell_type": "markdown",
   "id": "a3c8b663",
   "metadata": {},
   "source": [
    "### 2. In a list of values stored in a variable called spam, how would you assign the value 'hello' as the third value? (Assume [2, 4, 6, 8, 10] are in spam.)"
   ]
  },
  {
   "cell_type": "code",
   "execution_count": 2,
   "id": "2ccf5bce",
   "metadata": {},
   "outputs": [],
   "source": [
    "spam = [2,4,6,8,10]"
   ]
  },
  {
   "cell_type": "code",
   "execution_count": 4,
   "id": "c05673a6",
   "metadata": {},
   "outputs": [],
   "source": [
    "spam[2] = \"hello\""
   ]
  },
  {
   "cell_type": "code",
   "execution_count": 5,
   "id": "dca4d309",
   "metadata": {},
   "outputs": [
    {
     "data": {
      "text/plain": [
       "[2, 4, 'hello', 8, 10]"
      ]
     },
     "execution_count": 5,
     "metadata": {},
     "output_type": "execute_result"
    }
   ],
   "source": [
    "spam"
   ]
  },
  {
   "cell_type": "markdown",
   "id": "1aacd59a",
   "metadata": {},
   "source": [
    "### Let's pretend the spam includes the list ['a', 'b', 'c', 'd'] for the next three queries.\n",
    "#### 3. What is the value of spam[int(int('3' * 2) / 11)]?\n",
    "#### 4. What is the value of spam[-1]?\n",
    "#### 5. What is the value of spam[:2]?\n"
   ]
  },
  {
   "cell_type": "code",
   "execution_count": 6,
   "id": "a7bd90c7",
   "metadata": {},
   "outputs": [],
   "source": [
    "spam = ['a','b','c','d']"
   ]
  },
  {
   "cell_type": "code",
   "execution_count": 7,
   "id": "0e3320c2",
   "metadata": {},
   "outputs": [
    {
     "data": {
      "text/plain": [
       "'d'"
      ]
     },
     "execution_count": 7,
     "metadata": {},
     "output_type": "execute_result"
    }
   ],
   "source": [
    "spam[int(int('3' * 2) / 11)]"
   ]
  },
  {
   "cell_type": "code",
   "execution_count": 8,
   "id": "29ad31b9",
   "metadata": {},
   "outputs": [
    {
     "data": {
      "text/plain": [
       "'d'"
      ]
     },
     "execution_count": 8,
     "metadata": {},
     "output_type": "execute_result"
    }
   ],
   "source": [
    "spam[-1]"
   ]
  },
  {
   "cell_type": "code",
   "execution_count": 11,
   "id": "eb8be388",
   "metadata": {},
   "outputs": [
    {
     "data": {
      "text/plain": [
       "['a', 'b']"
      ]
     },
     "execution_count": 11,
     "metadata": {},
     "output_type": "execute_result"
    }
   ],
   "source": [
    "spam[:2]"
   ]
  },
  {
   "cell_type": "markdown",
   "id": "0f9f3926",
   "metadata": {},
   "source": [
    "### Let's pretend bacon has the list [3.14, 'cat,' 11, 'cat,' True] for the next three questions.\n",
    "#### 6. What is the value of bacon.index('cat')?\n",
    "#### 7. How does bacon.append(99) change the look of the list value in bacon?\n",
    "#### 8. How does bacon.remove('cat') change the look of the list in bacon?\n"
   ]
  },
  {
   "cell_type": "code",
   "execution_count": 12,
   "id": "7d3da53b",
   "metadata": {},
   "outputs": [],
   "source": [
    "bacon=[3.14,'cat','11','cat',True]"
   ]
  },
  {
   "cell_type": "code",
   "execution_count": 13,
   "id": "3e45c100",
   "metadata": {},
   "outputs": [
    {
     "data": {
      "text/plain": [
       "1"
      ]
     },
     "execution_count": 13,
     "metadata": {},
     "output_type": "execute_result"
    }
   ],
   "source": [
    "bacon.index('cat')"
   ]
  },
  {
   "cell_type": "code",
   "execution_count": 16,
   "id": "3188c70f",
   "metadata": {},
   "outputs": [],
   "source": [
    "bacon.remove('cat') "
   ]
  },
  {
   "cell_type": "code",
   "execution_count": 17,
   "id": "6ab40ee0",
   "metadata": {},
   "outputs": [
    {
     "data": {
      "text/plain": [
       "[3.14, '11', True]"
      ]
     },
     "execution_count": 17,
     "metadata": {},
     "output_type": "execute_result"
    }
   ],
   "source": [
    "bacon"
   ]
  },
  {
   "cell_type": "markdown",
   "id": "34853d43",
   "metadata": {},
   "source": [
    "### 9. What are the list concatenation and list replication operators?"
   ]
  },
  {
   "cell_type": "markdown",
   "id": "a45589bb",
   "metadata": {},
   "source": [
    "#### The operator for list concatenation is +, while the operator for replication is *."
   ]
  },
  {
   "cell_type": "markdown",
   "id": "0cca842c",
   "metadata": {},
   "source": [
    "### 10. What is difference between the list methods append() and insert()?"
   ]
  },
  {
   "cell_type": "markdown",
   "id": "4866dd24",
   "metadata": {},
   "source": [
    "#### append()  adds values only to the end of a list.\n",
    "#### insert() can add values at any positions in the list."
   ]
  },
  {
   "cell_type": "markdown",
   "id": "e0d20570",
   "metadata": {},
   "source": [
    "### 11. What are the two methods for removing items from a list? "
   ]
  },
  {
   "cell_type": "markdown",
   "id": "a5e4f099",
   "metadata": {},
   "source": [
    "#### The del statement.\n",
    "#### The remove() method.\n",
    "#### These are the 2 ways to remove values from a list."
   ]
  },
  {
   "cell_type": "markdown",
   "id": "0399a962",
   "metadata": {},
   "source": [
    "### 12. Describe how list values and string values are identical."
   ]
  },
  {
   "cell_type": "markdown",
   "id": "33686654",
   "metadata": {},
   "source": [
    "#### Both lists and strings can be passed to len(),\n",
    "#### have indexes and slices,\n",
    "#### be used in for loops, \n",
    "#### be concatenated or replicated,\n",
    "#### and be used with the in and not in operators."
   ]
  },
  {
   "cell_type": "markdown",
   "id": "4a81a801",
   "metadata": {},
   "source": [
    "### 13. What's the difference between tuples and lists?"
   ]
  },
  {
   "cell_type": "markdown",
   "id": "dfe5d734",
   "metadata": {},
   "source": [
    "#### Lists are mutable; they can have values added, removed, or changed.\n",
    "#### Lists use the square brackets, [ and ].\n",
    "#### Tuples are immutable; they cannot be changed at all.\n",
    "#### Also, tuples are written using parentheses, ( and )."
   ]
  },
  {
   "cell_type": "markdown",
   "id": "05b1a764",
   "metadata": {},
   "source": [
    "#### 14. How do you type a tuple value that only contains the integer 42?"
   ]
  },
  {
   "cell_type": "code",
   "execution_count": 12,
   "id": "67fbd176",
   "metadata": {},
   "outputs": [],
   "source": [
    "s = (42)"
   ]
  },
  {
   "cell_type": "code",
   "execution_count": 13,
   "id": "fb5714b8",
   "metadata": {},
   "outputs": [
    {
     "data": {
      "text/plain": [
       "int"
      ]
     },
     "execution_count": 13,
     "metadata": {},
     "output_type": "execute_result"
    }
   ],
   "source": [
    "type(s)"
   ]
  },
  {
   "cell_type": "code",
   "execution_count": 8,
   "id": "7ccf6876",
   "metadata": {},
   "outputs": [],
   "source": [
    "t = (42,) # comma is mandatory"
   ]
  },
  {
   "cell_type": "code",
   "execution_count": 9,
   "id": "90faff29",
   "metadata": {},
   "outputs": [
    {
     "data": {
      "text/plain": [
       "tuple"
      ]
     },
     "execution_count": 9,
     "metadata": {},
     "output_type": "execute_result"
    }
   ],
   "source": [
    "type(t)"
   ]
  },
  {
   "cell_type": "markdown",
   "id": "ff9be7b7",
   "metadata": {},
   "source": [
    "### 15. How do you get a list value's tuple form? How do you get a tuple value's list form?"
   ]
  },
  {
   "cell_type": "code",
   "execution_count": 14,
   "id": "a488ade5",
   "metadata": {},
   "outputs": [],
   "source": [
    "t = (1,12.4,\"Shilpa\")"
   ]
  },
  {
   "cell_type": "code",
   "execution_count": 15,
   "id": "c72d14ab",
   "metadata": {},
   "outputs": [],
   "source": [
    "l = [1,2,3,\"Itnal\"]"
   ]
  },
  {
   "cell_type": "code",
   "execution_count": 19,
   "id": "2c22708b",
   "metadata": {},
   "outputs": [
    {
     "data": {
      "text/plain": [
       "[1, 12.4, 'Shilpa']"
      ]
     },
     "execution_count": 19,
     "metadata": {},
     "output_type": "execute_result"
    }
   ],
   "source": [
    "list(t)"
   ]
  },
  {
   "cell_type": "code",
   "execution_count": 20,
   "id": "9719252d",
   "metadata": {},
   "outputs": [
    {
     "data": {
      "text/plain": [
       "(1, 2, 3, 'Itnal')"
      ]
     },
     "execution_count": 20,
     "metadata": {},
     "output_type": "execute_result"
    }
   ],
   "source": [
    "tuple(l)"
   ]
  },
  {
   "cell_type": "markdown",
   "id": "4335221e",
   "metadata": {},
   "source": [
    "### 16. Variables that \"contain\" list values are not necessarily lists themselves. Instead, what do they contain?"
   ]
  },
  {
   "cell_type": "markdown",
   "id": "94ba8a0f",
   "metadata": {},
   "source": [
    "#### They contain references to list values.\n",
    "\n"
   ]
  },
  {
   "cell_type": "markdown",
   "id": "3ecbff49",
   "metadata": {},
   "source": [
    "#### The copy.copy() function will do a shallow copy of a list.\n",
    "#### The copy.deepcopy() function will do a deep copy of a list. That is, only copy.deepcopy() will duplicate any lists inside the list."
   ]
  }
 ],
 "metadata": {
  "kernelspec": {
   "display_name": "Python 3",
   "language": "python",
   "name": "python3"
  },
  "language_info": {
   "codemirror_mode": {
    "name": "ipython",
    "version": 3
   },
   "file_extension": ".py",
   "mimetype": "text/x-python",
   "name": "python",
   "nbconvert_exporter": "python",
   "pygments_lexer": "ipython3",
   "version": "3.6.13"
  }
 },
 "nbformat": 4,
 "nbformat_minor": 5
}
