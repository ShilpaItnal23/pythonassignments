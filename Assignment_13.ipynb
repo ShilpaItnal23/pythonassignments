{
 "cells": [
  {
   "cell_type": "markdown",
   "id": "ded3ab55",
   "metadata": {},
   "source": [
    "### Assignment_13"
   ]
  },
  {
   "cell_type": "markdown",
   "id": "49e9ad3c",
   "metadata": {},
   "source": [
    "### 1. What advantages do Excel spreadsheets have over CSV spreadsheets?"
   ]
  },
  {
   "cell_type": "raw",
   "id": "b732bc3b",
   "metadata": {},
   "source": [
    "Excel advantages over CSV\n",
    "1. It is a binary file that holds information about all the worksheets in a workbook\n",
    "2. An Excel not only stores data but can also do operations on the data\n",
    "3. Files saved in excel cannot be opened or edited by text editors\n",
    "4. large files user is much easier in Excel for the end user. Also, \n",
    "    you can have additional functions like selecting individual cells for import, \n",
    "    convert dates and time automatically, reading formulas and their results, filters, sorting, etc\n",
    "5. Apart from text, data can also be stored in form of charts and graphs\n",
    "6. Excel can connect to external data sources to fetch data. You can use custom add-in in Excel to increase its functionality. \n",
    "7. Excel allows for Review of Data with detailed tracking and commenting feature\n",
    "8. In Excel, spreadsheets can have values of data types other than strings; cells can have different fonts, sizes, \n",
    "   or color settings; cells can have varying widths and heights; adjacent cells can be merged."
   ]
  },
  {
   "cell_type": "markdown",
   "id": "680cf0f9",
   "metadata": {},
   "source": [
    "### 2.What do you pass to csv.reader() and csv.writer() to create reader and writer objects?"
   ]
  },
  {
   "cell_type": "markdown",
   "id": "c81814b1",
   "metadata": {},
   "source": [
    "##### We pass a File object, obtained from a call to open()."
   ]
  },
  {
   "cell_type": "code",
   "execution_count": 2,
   "id": "d70c6f8d",
   "metadata": {},
   "outputs": [],
   "source": [
    "import csv"
   ]
  },
  {
   "cell_type": "code",
   "execution_count": 5,
   "id": "3aa78c2f",
   "metadata": {},
   "outputs": [
    {
     "data": {
      "text/plain": [
       "[['                     Koneru Lakshmaiah Education Foundation ',\n",
       "  '',\n",
       "  '',\n",
       "  '',\n",
       "  '',\n",
       "  '',\n",
       "  '',\n",
       "  '',\n",
       "  '',\n",
       "  ''],\n",
       " ['', '(Deemed to be university)', '', '', '', '', '', '', '', ''],\n",
       " ['', '  FRESHMAN ENGINEERING DEPARTMENT', '', '', '', '', '', '', '', ''],\n",
       " ['', '   Time Table ', '', '', '', '', '', '', '', ''],\n",
       " ['Program                    ',\n",
       "  ': B.Tech II Semester',\n",
       "  '',\n",
       "  '',\n",
       "  '',\n",
       "  '',\n",
       "  '',\n",
       "  'Academic Year',\n",
       "  ': 2021 -22 ',\n",
       "  ''],\n",
       " ['Branch', ': CSE(S-29)', '', '', '', '', '', 'Section', ': 45(H)', ''],\n",
       " ['', '', '', '', '', '', '', 'Room No ', ':Floating', ''],\n",
       " ['', '', '', '', '', '', '', '', '', ''],\n",
       " ['', 'HOUR ?', '1', '2', '3', '4', '7', '8', '', ''],\n",
       " ['',\n",
       "  '     TIME   /                                DAY',\n",
       "  '7.20 A.M-             8.10 A.M',\n",
       "  '8.10 A.M-                     9.00 A.M',\n",
       "  '9.40 A.M -               10.30 A.M',\n",
       "  '10.30 A.M  -                 11.20  A.M',\n",
       "  '01:30P.M - 02:20 P.M',\n",
       "  '   02.20 P.M  - \\n03.10 P.M',\n",
       "  '',\n",
       "  ''],\n",
       " ['',\n",
       "  'MONDAY',\n",
       "  'DDS LAB(C119)',\n",
       "  '',\n",
       "  'COA(L)(F307)',\n",
       "  '',\n",
       "  'DTI(C408)',\n",
       "  '',\n",
       "  '',\n",
       "  ''],\n",
       " ['',\n",
       "  'TUESDAY',\n",
       "  'CTOOD(L)(F105)',\n",
       "  '',\n",
       "  'DDS(S)(F307)',\n",
       "  '',\n",
       "  'DTI(C408)',\n",
       "  '',\n",
       "  '',\n",
       "  ''],\n",
       " ['',\n",
       "  'WEDNESDAY',\n",
       "  'DDS(S)(F307)',\n",
       "  '',\n",
       "  'CTOOD(S)(C109)',\n",
       "  '',\n",
       "  'EP LAB(F301)',\n",
       "  '',\n",
       "  '',\n",
       "  ''],\n",
       " ['',\n",
       "  'THURSDAY',\n",
       "  'MFE(L)(F307)',\n",
       "  '',\n",
       "  'EP CLASS(C108)',\n",
       "  '',\n",
       "  'CTOOD LAB(C119)',\n",
       "  '',\n",
       "  '',\n",
       "  ''],\n",
       " ['',\n",
       "  'FRIDAY',\n",
       "  'CTOOD((L)\\n(F108)',\n",
       "  'DDS(L)\\n(F108)',\n",
       "  'MFE(L)\\n(F207)',\n",
       "  'MFE(T)\\n(F207)',\n",
       "  'DTW-II LAB(F706)',\n",
       "  '',\n",
       "  '',\n",
       "  ''],\n",
       " ['',\n",
       "  'SATURDAY',\n",
       "  'DDS(L)(F205)',\n",
       "  '',\n",
       "  'CTOOD(S)(F207)',\n",
       "  '',\n",
       "  'DTW-II LAB(F109)',\n",
       "  '',\n",
       "  '',\n",
       "  ''],\n",
       " ['', '', '', '', '', '', '', '', '', ''],\n",
       " ['Faculty Details :', '', '', '', '', '', '', '', '', ''],\n",
       " ['', '', '', '', '', '', '', '', '', ''],\n",
       " ['Name of the course',\n",
       "  '',\n",
       "  '',\n",
       "  'Course Code',\n",
       "  'L-T-P-S',\n",
       "  'Lecturer&Tutorial faculty',\n",
       "  '',\n",
       "  'Lab faculty',\n",
       "  'Skill faculty',\n",
       "  ''],\n",
       " ['English Proficiency(EP)',\n",
       "  '',\n",
       "  '',\n",
       "  '20UC1202',\n",
       "  '0-0-4-0',\n",
       "  '',\n",
       "  '',\n",
       "  'Dr.M.Latha  (2921)',\n",
       "  '',\n",
       "  ''],\n",
       " ['Mathematics for Engineers(MFE)',\n",
       "  '',\n",
       "  '',\n",
       "  '21MT2102',\n",
       "  '2-1-0-0',\n",
       "  'Dr.B Srinivasa Kumar(1567)',\n",
       "  '',\n",
       "  '',\n",
       "  '',\n",
       "  ''],\n",
       " ['Computer Organization&Architecture(COA)',\n",
       "  '',\n",
       "  '',\n",
       "  '21EC1202',\n",
       "  '2-0-0-0',\n",
       "  'Mr B. Sai Sandeep(4106)',\n",
       "  '',\n",
       "  '',\n",
       "  '',\n",
       "  ''],\n",
       " ['Design of Data Structures(DDS)',\n",
       "  '',\n",
       "  '',\n",
       "  '21SC1202',\n",
       "  '3-0-2-4',\n",
       "  'Mr.CMAk  Zeelan Basha (3846)',\n",
       "  '',\n",
       "  'Mr.CMAk  Zeelan Basha (3846)',\n",
       "  'Mr.CMAk  Zeelan Basha (3846)',\n",
       "  ''],\n",
       " ['Design Tools Workshop-II (DTW-II)',\n",
       "  '',\n",
       "  '',\n",
       "  '21SC1209',\n",
       "  '0-0-4-0',\n",
       "  '',\n",
       "  '',\n",
       "  'Mr B. Sai Sandeep(4106)',\n",
       "  '',\n",
       "  ''],\n",
       " ['Computational Thinking for Object Oriented Design  (CTOOD)',\n",
       "  '',\n",
       "  '',\n",
       "  '21SC1203',\n",
       "  '3-0-2-4',\n",
       "  'Mr.N.Sreeram(4368)',\n",
       "  '',\n",
       "  'Mr.N.Sreeram(4368)',\n",
       "  'Mr.N.Sreeram(4368)',\n",
       "  ''],\n",
       " ['Design Thinking and Innovation (DTI)',\n",
       "  '',\n",
       "  '',\n",
       "  '21UC1203',\n",
       "  '0-0-4-0',\n",
       "  '',\n",
       "  '',\n",
       "  'Dr.J.Vijaya Chandra\\n(6525)',\n",
       "  '',\n",
       "  '']]"
      ]
     },
     "execution_count": 5,
     "metadata": {},
     "output_type": "execute_result"
    }
   ],
   "source": [
    "exFile = open('BoxTimeTable.csv')\n",
    "exreader = csv.reader(exFile)\n",
    "exData = list(exreader)\n",
    "exData"
   ]
  },
  {
   "cell_type": "markdown",
   "id": "8f207996",
   "metadata": {},
   "source": [
    "### 3. What modes do File objects for reader and writer objects need to be opened in?"
   ]
  },
  {
   "cell_type": "markdown",
   "id": "bc396e79",
   "metadata": {},
   "source": [
    "##### File objects need to be opened in read-binary ('rb') for Reader objects and write-binary ('wb') for Writer objects."
   ]
  },
  {
   "cell_type": "markdown",
   "id": "6870c016",
   "metadata": {},
   "source": [
    "### 4. What method takes a list argument and writes it to a CSV file?"
   ]
  },
  {
   "cell_type": "markdown",
   "id": "f117808b",
   "metadata": {},
   "source": [
    "##### The writerow() method"
   ]
  },
  {
   "cell_type": "code",
   "execution_count": 7,
   "id": "b93c1a28",
   "metadata": {},
   "outputs": [
    {
     "data": {
      "text/plain": [
       "17"
      ]
     },
     "execution_count": 7,
     "metadata": {},
     "output_type": "execute_result"
    }
   ],
   "source": [
    "opFile = open('output.csv','w')\n",
    "opWriter = csv.writer(opFile)\n",
    "csv.writer(opFile).writerow(['egg','orange','milk'])"
   ]
  },
  {
   "cell_type": "markdown",
   "id": "679524cd",
   "metadata": {},
   "source": [
    "### 5. What do the keyword arguments delimiter and line terminator do?"
   ]
  },
  {
   "cell_type": "raw",
   "id": "c7187f7b",
   "metadata": {},
   "source": [
    "The delimiter argument changes the string used to separate cells in a row. \n",
    "The lineterminator argument changes the string used to separate rows."
   ]
  },
  {
   "cell_type": "code",
   "execution_count": 9,
   "id": "8eeac858",
   "metadata": {},
   "outputs": [],
   "source": [
    "import csv\n",
    "csvFile = open('example.tsv', 'w', newline='')\n",
    "csvWriter = csv.writer(csvFile, delimiter='\\t', lineterminator='\\n\\n')"
   ]
  },
  {
   "cell_type": "markdown",
   "id": "0413360d",
   "metadata": {},
   "source": [
    "### 6. What function takes a string of JSON data and returns a Python data structure?"
   ]
  },
  {
   "cell_type": "markdown",
   "id": "65a3ef0f",
   "metadata": {},
   "source": [
    "##### json.loads()"
   ]
  },
  {
   "cell_type": "markdown",
   "id": "ce0a0e04",
   "metadata": {},
   "source": [
    "### 7. What function takes a Python data structure and returns a string of JSON data?"
   ]
  },
  {
   "cell_type": "markdown",
   "id": "05476a71",
   "metadata": {},
   "source": [
    "##### json.dumps()"
   ]
  },
  {
   "cell_type": "code",
   "execution_count": null,
   "id": "51ff77e2",
   "metadata": {},
   "outputs": [],
   "source": []
  }
 ],
 "metadata": {
  "kernelspec": {
   "display_name": "Python 3 (ipykernel)",
   "language": "python",
   "name": "python3"
  },
  "language_info": {
   "codemirror_mode": {
    "name": "ipython",
    "version": 3
   },
   "file_extension": ".py",
   "mimetype": "text/x-python",
   "name": "python",
   "nbconvert_exporter": "python",
   "pygments_lexer": "ipython3",
   "version": "3.9.7"
  }
 },
 "nbformat": 4,
 "nbformat_minor": 5
}
