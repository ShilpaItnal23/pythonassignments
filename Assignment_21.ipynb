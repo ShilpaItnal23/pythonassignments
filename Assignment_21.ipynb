{
 "cells": [
  {
   "cell_type": "markdown",
   "id": "345d8fe1",
   "metadata": {},
   "source": [
    "# Assignment_21"
   ]
  },
  {
   "cell_type": "markdown",
   "id": "2b0c0ce2",
   "metadata": {},
   "source": [
    "# 1. Add the current date to the text file today.txt as a string."
   ]
  },
  {
   "cell_type": "code",
   "execution_count": 1,
   "id": "0c477bc4",
   "metadata": {},
   "outputs": [
    {
     "data": {
      "text/plain": [
       "'2022-02-16'"
      ]
     },
     "execution_count": 1,
     "metadata": {},
     "output_type": "execute_result"
    }
   ],
   "source": [
    "import datetime\n",
    "from datetime import date\n",
    "now = date.today()\n",
    "cur_date = now.isoformat()\n",
    "cur_date"
   ]
  },
  {
   "cell_type": "code",
   "execution_count": 2,
   "id": "74084e33",
   "metadata": {},
   "outputs": [],
   "source": [
    "with open('today.txt','w') as file:\n",
    "    file.write(cur_date)"
   ]
  },
  {
   "cell_type": "markdown",
   "id": "da81d407",
   "metadata": {},
   "source": [
    "# 2. Read the text file today.txt into the string today_string"
   ]
  },
  {
   "cell_type": "code",
   "execution_count": 3,
   "id": "fce39a11",
   "metadata": {},
   "outputs": [
    {
     "data": {
      "text/plain": [
       "'2022-02-16'"
      ]
     },
     "execution_count": 3,
     "metadata": {},
     "output_type": "execute_result"
    }
   ],
   "source": [
    "with open('today.txt','r') as file:\n",
    "    today_string = file.read()\n",
    "today_string"
   ]
  },
  {
   "cell_type": "markdown",
   "id": "30412f7d",
   "metadata": {},
   "source": [
    "# 3. Parse the date from today_string."
   ]
  },
  {
   "cell_type": "code",
   "execution_count": 4,
   "id": "5acc5863",
   "metadata": {},
   "outputs": [
    {
     "data": {
      "text/plain": [
       "datetime.datetime(2022, 2, 16, 0, 0)"
      ]
     },
     "execution_count": 4,
     "metadata": {},
     "output_type": "execute_result"
    }
   ],
   "source": [
    "from datetime import datetime\n",
    "format = '%Y-%m-%d'\n",
    "datetime.strptime(today_string,format)"
   ]
  },
  {
   "cell_type": "markdown",
   "id": "e01292cc",
   "metadata": {},
   "source": [
    "# 4. List the files in your current directory"
   ]
  },
  {
   "cell_type": "code",
   "execution_count": 5,
   "id": "5db46aa6",
   "metadata": {},
   "outputs": [
    {
     "data": {
      "text/plain": [
       "['.ipynb_checkpoints',\n",
       " 'abc.log',\n",
       " 'app3.log',\n",
       " 'assignement link.txt',\n",
       " 'Assignement_12',\n",
       " 'Assignment-2.ipynb',\n",
       " 'Assignment-8.ipynb',\n",
       " 'Assignment_1.ipynb',\n",
       " 'Assignment_10.docx',\n",
       " 'Assignment_11.docx',\n",
       " 'Assignment_11.ipynb',\n",
       " 'Assignment_12.docx',\n",
       " 'Assignment_12.ipynb',\n",
       " 'Assignment_13.docx',\n",
       " 'Assignment_13.ipynb',\n",
       " 'Assignment_14.docx',\n",
       " 'Assignment_14.ipynb',\n",
       " 'Assignment_15.ipynb',\n",
       " 'Assignment_16.docx',\n",
       " 'Assignment_16.ipynb',\n",
       " 'Assignment_17.docx',\n",
       " 'Assignment_17.ipynb',\n",
       " 'Assignment_18.docx',\n",
       " 'Assignment_18.ipynb',\n",
       " 'Assignment_19.docx',\n",
       " 'Assignment_19.ipynb',\n",
       " 'Assignment_20.docx',\n",
       " 'Assignment_20.ipynb',\n",
       " 'Assignment_21.docx',\n",
       " 'Assignment_21.ipynb',\n",
       " 'Assignment_3.docx',\n",
       " 'Assignment_3.ipynb',\n",
       " 'Assignment_4.docx',\n",
       " 'Assignment_4.ipynb',\n",
       " 'Assignment_5.docx',\n",
       " 'Assignment_5.ipynb',\n",
       " 'Assignment_6.docx',\n",
       " 'Assignment_6.ipynb',\n",
       " 'Assignment_7.docx',\n",
       " 'Assignment_7.ipynb',\n",
       " 'Assignment_8.docx',\n",
       " 'Assignment_9.docx',\n",
       " 'Assignment_9.ipynb',\n",
       " 'Assignment_CarDataSet_SQL.ipynb',\n",
       " 'Assignment_Doubt.ipynb',\n",
       " 'Assignment_mySQL_Python.ipynb',\n",
       " 'assignment_tinker_kiwi.txt',\n",
       " 'books.csv',\n",
       " 'books.db',\n",
       " 'BoxTimeTable.csv',\n",
       " 'car.txt',\n",
       " 'classandobject.ipynb',\n",
       " 'DB_sudh.ipynb',\n",
       " 'example.tsv',\n",
       " 'exceptionhandling.ipynb',\n",
       " 'file1',\n",
       " 'Final_SQL_Assignment.ipynb',\n",
       " 'firstlogfile.log',\n",
       " 'function.ipynb',\n",
       " 'function_08-01-22.ipynb',\n",
       " 'glass.data.txt',\n",
       " 'hellothere.docx',\n",
       " 'links.txt',\n",
       " 'LogFile',\n",
       " 'logging',\n",
       " 'logging.ipynb',\n",
       " 'loggingpractice.ipynb',\n",
       " 'MOHUPHOTO.jpeg',\n",
       " 'MonogoDB.ipynb',\n",
       " 'mydict.py',\n",
       " 'OOD-1.ipynb',\n",
       " 'oop-2.ipynb',\n",
       " 'output.csv',\n",
       " 'PYTHON PROGRAMMING NOTES.pdf',\n",
       " 'python_FOR_Data Analytics.ipynb',\n",
       " 'python_sql.ipynb',\n",
       " 'ReviewScrapper-python project.pdf',\n",
       " 'Revision.ipynb',\n",
       " 'sql_glassdata.ipynb',\n",
       " 'sql_w3school.ipynb',\n",
       " 'sublinetest1.py',\n",
       " 'test.log',\n",
       " 'test.txt',\n",
       " 'test2',\n",
       " 'test2.py',\n",
       " 'test3.log',\n",
       " 'today.txt',\n",
       " 'Untitled Folder',\n",
       " 'Untitled.ipynb',\n",
       " 'Untitled1.ipynb',\n",
       " 'zoo',\n",
       " 'zoo.py',\n",
       " 'zoo1',\n",
       " '__pycache__',\n",
       " '~$signment_19.docx',\n",
       " '~$signment_21.docx']"
      ]
     },
     "execution_count": 5,
     "metadata": {},
     "output_type": "execute_result"
    }
   ],
   "source": [
    "import os\n",
    "os.listdir('.')"
   ]
  },
  {
   "cell_type": "markdown",
   "id": "80d49d1b",
   "metadata": {},
   "source": [
    "# 6. Use multiprocessing to create three separate processes. Make each one wait a random number of seconds between one and five, print the current time, and then exit."
   ]
  },
  {
   "cell_type": "code",
   "execution_count": 9,
   "id": "e3c3e46c",
   "metadata": {},
   "outputs": [
    {
     "data": {
      "text/plain": [
       "['.ipynb_checkpoints',\n",
       " '18-01-2022 CL.pdf',\n",
       " '20 assignments.docx',\n",
       " '27-11-2021-iNeuron full stack ds Class',\n",
       " 'A.txt',\n",
       " 'assignement.docx',\n",
       " 'Assignment_MySQL.html',\n",
       " 'Assignment_MySQL_files',\n",
       " 'at14.txt',\n",
       " 'BES-1 DEPT PENDING REGISTRATION AS ON 27.01.2022.xlsx',\n",
       " 'BigDataandHadoop Assignements-Shilpa Itnal',\n",
       " 'calculator.txt',\n",
       " 'cardio_alco.csv',\n",
       " 'cardio_base.csv',\n",
       " 'certificates-Intellipaat',\n",
       " 'ConstructorChaining.txt',\n",
       " 'counselling',\n",
       " 'CourseHandout.pdf',\n",
       " 'covid_data.csv',\n",
       " 'CSE35',\n",
       " 'CTSD1',\n",
       " 'Daniel Liang.pdf',\n",
       " 'Demo_Practice',\n",
       " 'desktop.ini',\n",
       " 'downloadibm.png',\n",
       " 'ds resume preparation',\n",
       " 'easy syn',\n",
       " 'Eclipse IDE for Java Developers - 2021-12.lnk',\n",
       " 'example1.txt',\n",
       " 'Hadoop Datasets',\n",
       " 'hadoop-files',\n",
       " 'Hadoop-Training-Virtual-Machine',\n",
       " 'ibmlogo.svg',\n",
       " 'IBM_PYHON',\n",
       " 'interview_intellipaat',\n",
       " 'javaNotes',\n",
       " 'javap',\n",
       " 'lab3.txt',\n",
       " 'LIVE_DEMO',\n",
       " 'log.py',\n",
       " 'MethodOverloading.txt',\n",
       " 'MOHUPHOTO.jpeg',\n",
       " 'MyResume_Shilpa Itnal.docx',\n",
       " 'New folder',\n",
       " 'oops',\n",
       " 'PhD PPTs',\n",
       " 'putty.exe',\n",
       " 'Python_Ineruon',\n",
       " 'R-Programming',\n",
       " 'registeredstudents.txt',\n",
       " 'Registration Pending Report Shilpa Itnal.xlsx',\n",
       " 'research',\n",
       " 'Research Ethics',\n",
       " 'resume.txt',\n",
       " 'RPaper',\n",
       " 'S35 CTSD -Test-1 Results Analysis Shilpa Itnal.xlsx',\n",
       " 's35_result analysis',\n",
       " 'scala',\n",
       " 'sec-14',\n",
       " 'sec21',\n",
       " 'staticBlock.txt',\n",
       " 'sudanshuSir',\n",
       " 'sunnysavita.txt',\n",
       " 'Tableau Assignment Submission',\n",
       " 'tableau-working',\n",
       " 'TableauNotDone',\n",
       " 'Untitled.ipynb',\n",
       " 'US_JOB_link.txt',\n",
       " 'Vaccine',\n",
       " 'VirtualBox-6.1.18-142142-Win.exe',\n",
       " 'VMware-player-12.5.5-5234757.exe',\n",
       " 'webscraping',\n",
       " 'WinSCP.lnk',\n",
       " '~$37project batches info DS.xlsx',\n",
       " '~$51 NARESH -SELF APPRAISAL FORM 2019-20.doc',\n",
       " '~$74318448-paper-Format_Sai.doc',\n",
       " '~$ailxxx.docx',\n",
       " '~$bSession1 (1).docx',\n",
       " '~$bSession1.docx',\n",
       " '~$cluster -4.xlsx',\n",
       " '~$Cluster4(Shilpa Itnal)ConsolidatedSheet.xlsx',\n",
       " '~$edback form (3).doc',\n",
       " '~$Graph_Shun.xlsx',\n",
       " '~$illSession1.docx',\n",
       " '~$ilpa Itnal(4870) -SELF APPRAISAL FORM 2019-20.doc',\n",
       " '~$Implemantation in Hacker Rank & HackerEarth (1).xlsx',\n",
       " '~$Implemantation in Hacker Rank & HackerEarth.xlsx',\n",
       " '~$invigilations (4).xlsx',\n",
       " '~$KEy.docx',\n",
       " '~$LAB (1).docx',\n",
       " '~$Lockdown TT BES-1-TT-May-5 (3).xlsx',\n",
       " '~$mputer Skills Syllabus_msword.docx',\n",
       " '~$ojectProposal_GItam.doc',\n",
       " '~$oject_Ewallet9-Send printout.doc',\n",
       " '~$read implementation using Runnable interface.docx',\n",
       " '~$S Academy Qp.docx',\n",
       " '~$ursera Master Class The Art and Science.docx',\n",
       " '~$Y21 B.Tech Students Credentials as on 04-09-2021 (4).xlsx',\n",
       " '~WRL0005.tmp',\n",
       " '~WRL2660.tmp']"
      ]
     },
     "execution_count": 9,
     "metadata": {},
     "output_type": "execute_result"
    }
   ],
   "source": [
    "os.listdir('..')"
   ]
  },
  {
   "cell_type": "markdown",
   "id": "557785c2",
   "metadata": {},
   "source": [
    "# 7. Create a date object of your day of birth."
   ]
  },
  {
   "cell_type": "code",
   "execution_count": 10,
   "id": "477be2b7",
   "metadata": {},
   "outputs": [
    {
     "data": {
      "text/plain": [
       "datetime.date(1982, 7, 23)"
      ]
     },
     "execution_count": 10,
     "metadata": {},
     "output_type": "execute_result"
    }
   ],
   "source": [
    "my_date = date(1982,7,23)\n",
    "my_date"
   ]
  },
  {
   "cell_type": "markdown",
   "id": "cfe277e0",
   "metadata": {},
   "source": [
    "# 8. What day of the week was your day of birth?\n"
   ]
  },
  {
   "cell_type": "code",
   "execution_count": 11,
   "id": "160dc1e0",
   "metadata": {},
   "outputs": [
    {
     "data": {
      "text/plain": [
       "4"
      ]
     },
     "execution_count": 11,
     "metadata": {},
     "output_type": "execute_result"
    }
   ],
   "source": [
    "my_date.weekday()"
   ]
  },
  {
   "cell_type": "markdown",
   "id": "71f437f5",
   "metadata": {},
   "source": [
    "# 9. When will you be (or when were you) 10,000 days old?"
   ]
  },
  {
   "cell_type": "code",
   "execution_count": 12,
   "id": "21c39d5b",
   "metadata": {},
   "outputs": [
    {
     "data": {
      "text/plain": [
       "datetime.date(2009, 12, 8)"
      ]
     },
     "execution_count": 12,
     "metadata": {},
     "output_type": "execute_result"
    }
   ],
   "source": [
    "from datetime import timedelta\n",
    "day10000 = my_date + timedelta(days=10000)\n",
    "day10000"
   ]
  },
  {
   "cell_type": "code",
   "execution_count": null,
   "id": "b71423a1",
   "metadata": {},
   "outputs": [],
   "source": []
  }
 ],
 "metadata": {
  "kernelspec": {
   "display_name": "Python 3 (ipykernel)",
   "language": "python",
   "name": "python3"
  },
  "language_info": {
   "codemirror_mode": {
    "name": "ipython",
    "version": 3
   },
   "file_extension": ".py",
   "mimetype": "text/x-python",
   "name": "python",
   "nbconvert_exporter": "python",
   "pygments_lexer": "ipython3",
   "version": "3.9.7"
  }
 },
 "nbformat": 4,
 "nbformat_minor": 5
}
