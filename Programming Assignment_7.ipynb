{
 "cells": [
  {
   "cell_type": "markdown",
   "id": "af87d9e5",
   "metadata": {},
   "source": [
    "# Programming Assignment_7"
   ]
  },
  {
   "cell_type": "markdown",
   "id": "e0258128",
   "metadata": {},
   "source": [
    "# 1.\tWrite a Python Program to find sum of array?"
   ]
  },
  {
   "cell_type": "code",
   "execution_count": 15,
   "id": "c0276b13",
   "metadata": {},
   "outputs": [
    {
     "name": "stdout",
     "output_type": "stream",
     "text": [
      "Enter a bunch of numbers separated by a space:10 20 30 40\n",
      "sum = 100\n"
     ]
    }
   ],
   "source": [
    "def sumArray(x):\n",
    "    alist = [int(i) for i in x.split()]\n",
    "    sum = 0\n",
    "    for i in alist:\n",
    "        sum = sum + i\n",
    "    print(\"sum = {}\".format(sum))\n",
    "sumArray(input('Enter a bunch of numbers separated by a space:'))\n",
    "    "
   ]
  },
  {
   "cell_type": "markdown",
   "id": "3b220b62",
   "metadata": {},
   "source": [
    "# 2.\tWrite a Python Program to find largest element in an array?"
   ]
  },
  {
   "cell_type": "code",
   "execution_count": 24,
   "id": "b4862053",
   "metadata": {},
   "outputs": [
    {
     "name": "stdout",
     "output_type": "stream",
     "text": [
      "Enter a bunch of numbers separated by a space:-1 -2 -3 -4 5 -9\n",
      "Max = 5\n"
     ]
    }
   ],
   "source": [
    "def sumArray(x):\n",
    "    alist = [int(i) for i in x.split()]\n",
    "    sum = 0\n",
    "    max = alist[0]\n",
    "    for i in alist:\n",
    "        if i> max:\n",
    "            max = i\n",
    "    print(\"Max = {}\".format(max))\n",
    "sumArray(input('Enter a bunch of numbers separated by a space:'))"
   ]
  },
  {
   "cell_type": "markdown",
   "id": "a2cd4a0c",
   "metadata": {},
   "source": [
    "# 3.\tWrite a Python Program for array rotation?"
   ]
  },
  {
   "cell_type": "code",
   "execution_count": 34,
   "id": "d4789014",
   "metadata": {},
   "outputs": [
    {
     "name": "stdout",
     "output_type": "stream",
     "text": [
      "Rotated list is\n",
      "[3, 4, 5, 6, 1, 2]\n"
     ]
    }
   ],
   "source": [
    "# List slicing approch to rotate the array\n",
    "def rotateArray(a,d):\n",
    "    n=len(a)\n",
    "    a[:]=a[d:n]+a[0:d]\n",
    "    return a\n",
    "\n",
    "arr = [1, 2, 3, 4, 5, 6]\n",
    "\n",
    "print(\"Rotated list is\")\n",
    "print(rotateArray(arr,2)) "
   ]
  },
  {
   "cell_type": "markdown",
   "id": "eabc1000",
   "metadata": {},
   "source": [
    "# 4.\tWrite a Python Program to Split the array and add the first part to the end?"
   ]
  },
  {
   "cell_type": "code",
   "execution_count": null,
   "id": "589a5fa6",
   "metadata": {},
   "outputs": [],
   "source": [
    "Reading an array\n",
    "def ReadArray():\n",
    "\n",
    "    n=int(input(\"how many number you want to enter:\"))\n",
    "    l=[]\n",
    "    for i in range(n):\n",
    "        l.append(int(input()))"
   ]
  },
  {
   "cell_type": "code",
   "execution_count": 14,
   "id": "85319d3e",
   "metadata": {},
   "outputs": [
    {
     "name": "stdout",
     "output_type": "stream",
     "text": [
      "5 6 52 36 12 10 "
     ]
    }
   ],
   "source": [
    "# Python program to split array and move first\n",
    "# part to end.\n",
    "\n",
    "def splitArr(a, n, k):\n",
    "    b = a[:k]\n",
    "    return (a[k::]+b[::])\n",
    "\n",
    "\n",
    "# main\n",
    "arr = [12, 10, 5, 6, 52, 36]\n",
    "n = len(arr) #n=6\n",
    "position = 2\n",
    "arr = splitArr(arr, n, position)#\n",
    "for i in range(0, n):\n",
    "    print(arr[i], end = ' ')\n"
   ]
  },
  {
   "cell_type": "markdown",
   "id": "d55c0cc3",
   "metadata": {},
   "source": [
    "# 5. Write a Python Program to check if given array is Monotonic?"
   ]
  },
  {
   "cell_type": "code",
   "execution_count": null,
   "id": "c8149170",
   "metadata": {},
   "outputs": [],
   "source": [
    "An array is said to be monotonic if the elements in the array are either in the increasing or decreasing order"
   ]
  },
  {
   "cell_type": "code",
   "execution_count": 18,
   "id": "d2c4cd6c",
   "metadata": {},
   "outputs": [
    {
     "name": "stdout",
     "output_type": "stream",
     "text": [
      "True\n"
     ]
    }
   ],
   "source": [
    "def isMonotonic(A):\n",
    "    return (all(A[i] <= A[i + 1] for i in range(len(A) - 1)) or\n",
    "      all(A[i] >= A[i + 1] for i in range(len(A) - 1)))\n",
    "# main\n",
    "A = [1,2,3,4,7,8]\n",
    "print(isMonotonic(A))"
   ]
  },
  {
   "cell_type": "code",
   "execution_count": 19,
   "id": "36ed1b99",
   "metadata": {},
   "outputs": [
    {
     "name": "stdout",
     "output_type": "stream",
     "text": [
      "False\n"
     ]
    }
   ],
   "source": [
    "def isMonotonic(A):\n",
    "    return (all(A[i] <= A[i + 1] for i in range(len(A) - 1)) or\n",
    "      all(A[i] >= A[i + 1] for i in range(len(A) - 1)))\n",
    "# main\n",
    "A = [100,22,3,4,7,8]\n",
    "print(isMonotonic(A))"
   ]
  },
  {
   "cell_type": "code",
   "execution_count": null,
   "id": "64fc4573",
   "metadata": {},
   "outputs": [],
   "source": []
  }
 ],
 "metadata": {
  "kernelspec": {
   "display_name": "Python 3 (ipykernel)",
   "language": "python",
   "name": "python3"
  },
  "language_info": {
   "codemirror_mode": {
    "name": "ipython",
    "version": 3
   },
   "file_extension": ".py",
   "mimetype": "text/x-python",
   "name": "python",
   "nbconvert_exporter": "python",
   "pygments_lexer": "ipython3",
   "version": "3.9.7"
  }
 },
 "nbformat": 4,
 "nbformat_minor": 5
}
