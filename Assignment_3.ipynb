{
 "cells": [
  {
   "cell_type": "markdown",
   "id": "4c2d2b28",
   "metadata": {},
   "source": [
    "### 1. Why are functions advantageous to have in your programs?"
   ]
  },
  {
   "cell_type": "markdown",
   "id": "e7a713ce",
   "metadata": {},
   "source": [
    "####  Large program can be broken down into smallar units called as modules or functions.\n",
    "####  Modules keeps the code well organized, simple to understand, enhances readbility.\n",
    "####  Functions main keyrole is reusability.\n",
    "####  If you want to modify or update, functions handles it very well effortlessly.\n"
   ]
  },
  {
   "cell_type": "markdown",
   "id": "f74f407d",
   "metadata": {},
   "source": [
    "### 2. When does the code in a function run: when it's specified or when it's called?"
   ]
  },
  {
   "cell_type": "markdown",
   "id": "517aca78",
   "metadata": {},
   "source": [
    "#### Code in the function runs only when the function is called."
   ]
  },
  {
   "cell_type": "markdown",
   "id": "cd28edcf",
   "metadata": {},
   "source": [
    "### 3. What statement creates a function?"
   ]
  },
  {
   "cell_type": "markdown",
   "id": "2ac3c057",
   "metadata": {},
   "source": [
    "#### A function is created with the def keyword."
   ]
  },
  {
   "cell_type": "markdown",
   "id": "4a06f116",
   "metadata": {},
   "source": [
    "### 4. What is the difference between a function and a function call?"
   ]
  },
  {
   "cell_type": "markdown",
   "id": "36340f7c",
   "metadata": {},
   "source": [
    "#### A function is procedure containing set of instructions to achieve a particular task.\n",
    "#### The above task is accomplished only using a function call.\n",
    "#### Means function will only execute when it is called."
   ]
  },
  {
   "cell_type": "markdown",
   "id": "b565b051",
   "metadata": {},
   "source": [
    "### 5. How many global scopes are there in a Python program? How many local scopes?"
   ]
  },
  {
   "cell_type": "markdown",
   "id": "e34eedf9",
   "metadata": {},
   "source": [
    "#### Local (or function) scope \n",
    "#### Enclosing (or nonlocal) scope is a special scope that only exists for nested functions.\n",
    "#### Global (or module) scope is the top-most scope in a Python program, script, or module.\n",
    "#### Built-in scope is a special Python scope that’s created or loaded whenever you run a script or open an interactive session.\n"
   ]
  },
  {
   "cell_type": "markdown",
   "id": "6b94bc4a",
   "metadata": {},
   "source": [
    "### 6. What happens to variables in a local scope when the function call returns?"
   ]
  },
  {
   "cell_type": "markdown",
   "id": "33dcf1a2",
   "metadata": {},
   "source": [
    "#### A local variable becomes undefined after the function call completes. It cannot be accessed outside the function."
   ]
  },
  {
   "cell_type": "markdown",
   "id": "45473ed2",
   "metadata": {},
   "source": [
    "### 7. What is the concept of a return value? Is it possible to have a return value in an expression?"
   ]
  },
  {
   "cell_type": "markdown",
   "id": "03cf7e16",
   "metadata": {},
   "source": [
    "#### WHen function completes its task, calculated value it returns.\n",
    "#### The return value can be single, multiple or an expression"
   ]
  },
  {
   "cell_type": "code",
   "execution_count": 5,
   "id": "97f9bafc",
   "metadata": {},
   "outputs": [
    {
     "data": {
      "text/plain": [
       "1"
      ]
     },
     "execution_count": 5,
     "metadata": {},
     "output_type": "execute_result"
    }
   ],
   "source": [
    "def singlevalue():\n",
    "    return 1\n",
    "singlevalue()"
   ]
  },
  {
   "cell_type": "code",
   "execution_count": 6,
   "id": "cb0c5a18",
   "metadata": {},
   "outputs": [
    {
     "data": {
      "text/plain": [
       "[2, 4, 6]"
      ]
     },
     "execution_count": 6,
     "metadata": {},
     "output_type": "execute_result"
    }
   ],
   "source": [
    "def get_even(numbers):\n",
    "    even_nums = [num for num in numbers if not num % 2]\n",
    "    return even_nums\n",
    "get_even([1, 2, 3, 4, 5, 6])"
   ]
  },
  {
   "cell_type": "code",
   "execution_count": 7,
   "id": "c041b52d",
   "metadata": {},
   "outputs": [
    {
     "data": {
      "text/plain": [
       "2.5"
      ]
     },
     "execution_count": 7,
     "metadata": {},
     "output_type": "execute_result"
    }
   ],
   "source": [
    "def mean(sample):\n",
    "    return sum(sample) / len(sample)\n",
    "mean([1, 2, 3, 4])"
   ]
  },
  {
   "cell_type": "markdown",
   "id": "3af538b7",
   "metadata": {},
   "source": [
    "### 8. If a function does not have a return statement, what is the return value of a call to that function?"
   ]
  },
  {
   "cell_type": "markdown",
   "id": "ce0f4f97",
   "metadata": {},
   "source": [
    "#### If no return statement appears in a function definition, control automatically returns to the calling function after the last statement of the called function is executed.\n",
    "#### In this case, the return value of the called function is undefined."
   ]
  },
  {
   "cell_type": "markdown",
   "id": "584fe7f2",
   "metadata": {},
   "source": [
    "### 9. How do you make a function variable refer to the global variable?"
   ]
  },
  {
   "cell_type": "markdown",
   "id": "1aba9c9e",
   "metadata": {},
   "source": [
    "#### We use a global keyboard when we are accessing the global variable inside the function"
   ]
  },
  {
   "cell_type": "code",
   "execution_count": 9,
   "id": "624d375b",
   "metadata": {},
   "outputs": [
    {
     "name": "stdout",
     "output_type": "stream",
     "text": [
      "10\n"
     ]
    }
   ],
   "source": [
    "x = 10\n",
    "def foobar():\n",
    "    global x\n",
    "    print(x)\n",
    "    x += 1\n",
    "foobar()"
   ]
  },
  {
   "cell_type": "markdown",
   "id": "e51b8d7e",
   "metadata": {},
   "source": [
    "### 10. What is the data type of None?"
   ]
  },
  {
   "cell_type": "markdown",
   "id": "459ef304",
   "metadata": {},
   "source": [
    "#### The None keyword is used to define a null value, or no value at all.\n",
    "\n",
    "#### None is not the same as 0, False, or an empty string. None is a data type of its own (NoneType) and only None can be None."
   ]
  },
  {
   "cell_type": "code",
   "execution_count": 10,
   "id": "90e0ea14",
   "metadata": {},
   "outputs": [
    {
     "name": "stdout",
     "output_type": "stream",
     "text": [
      "None is not True, or False, None is just None...\n"
     ]
    }
   ],
   "source": [
    "x = None\n",
    "\n",
    "if x:\n",
    "  print(\"Do you think None is True?\")\n",
    "elif x is False:\n",
    "  print (\"Do you think None is False?\")\n",
    "else:\n",
    "  print(\"None is not True, or False, None is just None...\")"
   ]
  },
  {
   "cell_type": "markdown",
   "id": "3646a1b8",
   "metadata": {},
   "source": [
    "### 11. What does the sentence import areallyourpetsnamederic do?"
   ]
  },
  {
   "cell_type": "markdown",
   "id": "5e9ca312",
   "metadata": {},
   "source": [
    "### import keywords import the module, which we can use in our program."
   ]
  },
  {
   "cell_type": "markdown",
   "id": "1e8c25c5",
   "metadata": {},
   "source": [
    "### 12. If you had a bacon() feature in a spam module, what would you call it after importing spam?"
   ]
  },
  {
   "cell_type": "markdown",
   "id": "8aaacd6c",
   "metadata": {},
   "source": [
    "#### This function can be called with spam.bacon().\n",
    "\n"
   ]
  },
  {
   "cell_type": "markdown",
   "id": "24a69fd9",
   "metadata": {},
   "source": [
    "### 13. What can you do to save a programme from crashing if it encounters an error?"
   ]
  },
  {
   "cell_type": "markdown",
   "id": "8d74a8e7",
   "metadata": {},
   "source": [
    "#### Where there is chances of crashing a code, that code must be handlled by the exception handling and code must be written in try block.\n"
   ]
  },
  {
   "cell_type": "markdown",
   "id": "ee463d26",
   "metadata": {},
   "source": [
    "### 14. What is the purpose of the try clause? What is the purpose of the except clause?"
   ]
  },
  {
   "cell_type": "markdown",
   "id": "f3c06bae",
   "metadata": {},
   "source": [
    "#### The code that could potentially cause an error goes in the try clause.\n",
    "\n",
    "#### The code that executes if an error happens goes in the except clause."
   ]
  }
 ],
 "metadata": {
  "kernelspec": {
   "display_name": "Python 3",
   "language": "python",
   "name": "python3"
  },
  "language_info": {
   "codemirror_mode": {
    "name": "ipython",
    "version": 3
   },
   "file_extension": ".py",
   "mimetype": "text/x-python",
   "name": "python",
   "nbconvert_exporter": "python",
   "pygments_lexer": "ipython3",
   "version": "3.8.8"
  }
 },
 "nbformat": 4,
 "nbformat_minor": 5
}
