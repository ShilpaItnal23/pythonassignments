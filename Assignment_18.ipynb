{
 "cells": [
  {
   "cell_type": "markdown",
   "id": "9ac76d00",
   "metadata": {},
   "source": [
    "# Assignment_18"
   ]
  },
  {
   "cell_type": "markdown",
   "id": "938e6aff",
   "metadata": {},
   "source": [
    "# 1. Create a zoo.py file first. Define the hours() function, which prints the string 'Open 9-5 daily'. Then, use the interactive interpreter to import the zoo module and call its hours() function."
   ]
  },
  {
   "cell_type": "code",
   "execution_count": 1,
   "id": "12509df9",
   "metadata": {},
   "outputs": [
    {
     "name": "stdout",
     "output_type": "stream",
     "text": [
      " Volume in drive C has no label.\n",
      " Volume Serial Number is 38CC-3E05\n",
      "\n",
      " Directory of C:\\Users\\Lenovo\\Desktop\\sudanshuSir\n",
      "\n",
      "15-02-2022  07:46    <DIR>          .\n",
      "15-02-2022  07:46    <DIR>          ..\n",
      "14-02-2022  09:26    <DIR>          .ipynb_checkpoints\n",
      "23-01-2022  12:22    <DIR>          __pycache__\n",
      "16-01-2022  22:06               590 abc.log\n",
      "17-01-2022  08:36             2,706 app3.log\n",
      "12-02-2022  15:00               289 assignement link.txt\n",
      "03-02-2022  10:28                 0 Assignement_12\n",
      "11-02-2022  11:14             8,160 Assignement_18.ipynb\n",
      "14-12-2021  10:32            11,548 Assignment_1.ipynb\n",
      "06-01-2022  16:48            17,087 Assignment_10.docx\n",
      "21-01-2022  10:14            17,334 Assignment_11.docx\n",
      "21-01-2022  10:57            10,992 Assignment_11.ipynb\n",
      "21-01-2022  11:00            17,177 Assignment_12.docx\n",
      "03-02-2022  11:24             9,799 Assignment_12.ipynb\n",
      "03-02-2022  11:26            17,003 Assignment_13.docx\n",
      "03-02-2022  11:53            10,657 Assignment_13.ipynb\n",
      "03-02-2022  11:56            17,041 Assignment_14.docx\n",
      "03-02-2022  12:39             4,548 Assignment_14.ipynb\n",
      "04-02-2022  20:04             5,642 Assignment_15.ipynb\n",
      "04-02-2022  20:11            17,539 Assignment_16.docx\n",
      "04-02-2022  22:18            11,853 Assignment_16.ipynb\n",
      "04-02-2022  22:21            17,688 Assignment_17.docx\n",
      "10-02-2022  21:49            11,652 Assignment_17.ipynb\n",
      "11-02-2022  10:14            17,212 Assignment_18.docx\n",
      "12-02-2022  15:08         1,040,743 Assignment_19.docx\n",
      "12-02-2022  14:59            10,808 Assignment_19.ipynb\n",
      "12-02-2022  14:42            17,685 Assignment_20.docx\n",
      "17-12-2021  12:22            17,319 Assignment_3.docx\n",
      "17-12-2021  21:01             8,890 Assignment_3.ipynb\n",
      "17-12-2021  12:23            17,562 Assignment_4.docx\n",
      "18-12-2021  16:33             9,844 Assignment_4.ipynb\n",
      "17-12-2021  12:24            17,113 Assignment_5.docx\n",
      "23-12-2021  08:19             6,789 Assignment_5.ipynb\n",
      "23-12-2021  08:24            17,376 Assignment_6.docx\n",
      "23-12-2021  09:38            10,894 Assignment_6.ipynb\n",
      "23-12-2021  11:37            18,804 Assignment_7.docx\n",
      "23-12-2021  14:05            24,928 Assignment_7.ipynb\n",
      "06-01-2022  14:59            17,062 Assignment_8.docx\n",
      "06-01-2022  15:40            17,128 Assignment_9.docx\n",
      "06-01-2022  16:39             6,770 Assignment_9.ipynb\n",
      "08-02-2022  20:05            89,273 Assignment_CarDataSet_SQL.ipynb\n",
      "10-02-2022  12:17           541,275 Assignment_Doubt.ipynb\n",
      "10-02-2022  12:07           541,275 Assignment_mySQL_Python.ipynb\n",
      "22-01-2022  13:09               211 assignment_tinker_kiwi.txt\n",
      "15-12-2021  13:46            15,792 Assignment-2.ipynb\n",
      "06-01-2022  15:38            12,737 Assignment-8.ipynb\n",
      "03-02-2022  11:37             1,822 BoxTimeTable.csv\n",
      "06-02-2022  12:18            51,867 car.txt\n",
      "17-01-2022  14:44            10,838 classandobject.ipynb\n",
      "06-02-2022  12:16             7,480 DB_sudh.ipynb\n",
      "03-02-2022  11:45                 0 example.tsv\n",
      "16-01-2022  12:20            12,775 exceptionhandling.ipynb\n",
      "17-01-2022  14:37                42 file1\n",
      "10-02-2022  13:02           372,747 Final_SQL_Assignment.ipynb\n",
      "16-01-2022  13:08               496 firstlogfile.log\n",
      "23-12-2021  22:18            19,008 function.ipynb\n",
      "08-01-2022  13:52            17,094 function_08-01-22.ipynb\n",
      "08-02-2022  07:57            11,903 glass.data.txt\n",
      "03-02-2022  11:15            36,587 hellothere.docx\n",
      "09-02-2022  23:28               166 links.txt\n",
      "16-01-2022  21:33             1,634 LogFile\n",
      "16-01-2022  18:17    <DIR>          logging\n",
      "17-01-2022  10:26            19,261 logging.ipynb\n",
      "16-01-2022  22:22            11,328 loggingpractice.ipynb\n",
      "03-10-2021  12:26           145,694 MOHUPHOTO.jpeg\n",
      "14-02-2022  15:04            23,697 MonogoDB.ipynb\n",
      "23-01-2022  12:21               602 mydict.py\n",
      "23-01-2022  12:22            25,148 OOD-1.ipynb\n",
      "23-01-2022  15:45             7,138 oop-2.ipynb\n",
      "03-02-2022  15:09                18 output.csv\n",
      "21-01-2022  11:15         1,597,251 PYTHON PROGRAMMING NOTES.pdf\n",
      "12-01-2022  22:36             4,595 python_FOR_Data Analytics.ipynb\n",
      "11-01-2022  19:11            19,728 python_sql.ipynb\n",
      "01-02-2022  21:12         1,774,108 ReviewScrapper-python project.pdf\n",
      "07-02-2022  21:29             1,102 Revision.ipynb\n",
      "08-02-2022  20:28            70,520 sql_glassdata.ipynb\n",
      "06-02-2022  22:41            31,297 sql_w3school.ipynb\n",
      "23-01-2022  09:26                 4 sublinetest1.py\n",
      "16-01-2022  18:37               432 test.log\n",
      "16-01-2022  11:00                 0 test2\n",
      "23-01-2022  09:35               133 test2.py\n",
      "16-01-2022  18:16               409 test3.log\n",
      "15-01-2022  17:29    <DIR>          Untitled Folder\n",
      "03-02-2022  14:24             7,443 Untitled.ipynb\n",
      "07-02-2022  21:01                72 Untitled1.ipynb\n",
      "11-02-2022  11:08                41 zoo\n",
      "15-02-2022  07:47                42 zoo.py\n",
      "11-02-2022  11:13                28 zoo1\n",
      "              83 File(s)      6,971,345 bytes\n",
      "               6 Dir(s)  313,045,950,464 bytes free\n"
     ]
    }
   ],
   "source": [
    "ls"
   ]
  },
  {
   "cell_type": "code",
   "execution_count": 2,
   "id": "1219940b",
   "metadata": {},
   "outputs": [],
   "source": [
    "import zoo"
   ]
  },
  {
   "cell_type": "markdown",
   "id": "163356e8",
   "metadata": {},
   "source": [
    "Without interactive interpreter"
   ]
  },
  {
   "cell_type": "code",
   "execution_count": 4,
   "id": "c91fdf6c",
   "metadata": {},
   "outputs": [
    {
     "name": "stdout",
     "output_type": "stream",
     "text": [
      "Opens 9-5 daily\n"
     ]
    }
   ],
   "source": [
    "zoo.hours()"
   ]
  },
  {
   "cell_type": "code",
   "execution_count": 6,
   "id": "345f25e7",
   "metadata": {},
   "outputs": [
    {
     "name": "stdout",
     "output_type": "stream",
     "text": [
      "Opens 9-5 daily\n"
     ]
    }
   ],
   "source": [
    "import zoo\n",
    "from importlib import reload\n",
    "reload(zoo)\n",
    "zoo.hours()"
   ]
  },
  {
   "cell_type": "markdown",
   "id": "c8b10e9c",
   "metadata": {},
   "source": [
    "# 2. In the interactive interpreter, import the zoo module as menagerie and call its hours() function."
   ]
  },
  {
   "cell_type": "code",
   "execution_count": 7,
   "id": "9f98c06a",
   "metadata": {},
   "outputs": [
    {
     "name": "stdout",
     "output_type": "stream",
     "text": [
      "Opens 9-5 daily\n"
     ]
    }
   ],
   "source": [
    "import zoo as menagerie\n",
    "menagerie.hours()"
   ]
  },
  {
   "cell_type": "markdown",
   "id": "e91ea4ae",
   "metadata": {},
   "source": [
    "# 3. Using the interpreter, explicitly import and call the hours() function from zoo."
   ]
  },
  {
   "cell_type": "code",
   "execution_count": 8,
   "id": "e1bee070",
   "metadata": {},
   "outputs": [
    {
     "name": "stdout",
     "output_type": "stream",
     "text": [
      "Opens 9-5 daily\n"
     ]
    }
   ],
   "source": [
    "from zoo import hours\n",
    "hours()"
   ]
  },
  {
   "cell_type": "markdown",
   "id": "80dc16c6",
   "metadata": {},
   "source": [
    "# 4. Import the hours() function as info and call it."
   ]
  },
  {
   "cell_type": "code",
   "execution_count": 9,
   "id": "abf4ec8d",
   "metadata": {},
   "outputs": [
    {
     "name": "stdout",
     "output_type": "stream",
     "text": [
      "Opens 9-5 daily\n"
     ]
    }
   ],
   "source": [
    "from zoo import hours as info\n",
    "info()"
   ]
  },
  {
   "cell_type": "markdown",
   "id": "5d7f1acc",
   "metadata": {},
   "source": [
    "# 5. Create a plain dictionary with the key-value pairs 'a': 1, 'b': 2, 'c': 3, and print it out."
   ]
  },
  {
   "cell_type": "code",
   "execution_count": 15,
   "id": "e4a77252",
   "metadata": {},
   "outputs": [
    {
     "data": {
      "text/plain": [
       "{'a': 1, 'b': 2, 'c': 3}"
      ]
     },
     "execution_count": 15,
     "metadata": {},
     "output_type": "execute_result"
    }
   ],
   "source": [
    "plain = {'a': 1, 'b': 2, 'c': 3}\n",
    "plain"
   ]
  },
  {
   "cell_type": "markdown",
   "id": "35735111",
   "metadata": {},
   "source": [
    "# 6.Make an OrderedDict called fancy from the same pairs listed in 5 and print it. Did it print in the same order as plain?"
   ]
  },
  {
   "cell_type": "code",
   "execution_count": 17,
   "id": "532e13d9",
   "metadata": {},
   "outputs": [
    {
     "name": "stdout",
     "output_type": "stream",
     "text": [
      "('a', 1)\n",
      "('b', 2)\n",
      "('c', 3)\n"
     ]
    }
   ],
   "source": [
    "plain = {'a': 1, 'b': 2, 'c': 3}\n",
    "for i in plain.items():\n",
    "    print(i)"
   ]
  },
  {
   "cell_type": "code",
   "execution_count": 18,
   "id": "2274ed7b",
   "metadata": {},
   "outputs": [
    {
     "data": {
      "text/plain": [
       "OrderedDict([('a', 1), ('b', 2), ('c', 3)])"
      ]
     },
     "execution_count": 18,
     "metadata": {},
     "output_type": "execute_result"
    }
   ],
   "source": [
    "from collections import OrderedDict\n",
    "fancy = OrderedDict([('a', 1), ('b', 2), ('c', 3)])\n",
    "fancy"
   ]
  },
  {
   "cell_type": "markdown",
   "id": "16880343",
   "metadata": {},
   "source": [
    "Yes.. it printed the same order as plain"
   ]
  },
  {
   "cell_type": "markdown",
   "id": "2cc21375",
   "metadata": {},
   "source": [
    "# 7. Make a defaultdict called dict_of_lists and pass it the argument list. Make the list dict_of_lists['a'] and append the value 'something for a' to it in one assignment. Print dict_of_lists['a']"
   ]
  },
  {
   "cell_type": "code",
   "execution_count": 19,
   "id": "695a9dbf",
   "metadata": {},
   "outputs": [
    {
     "data": {
      "text/plain": [
       "['something for a']"
      ]
     },
     "execution_count": 19,
     "metadata": {},
     "output_type": "execute_result"
    }
   ],
   "source": [
    "from collections import defaultdict\n",
    "dict_of_lists = defaultdict(list)\n",
    "dict_of_lists['a'].append('something for a')\n",
    "dict_of_lists['a']"
   ]
  },
  {
   "cell_type": "code",
   "execution_count": null,
   "id": "b561fc10",
   "metadata": {},
   "outputs": [],
   "source": []
  }
 ],
 "metadata": {
  "kernelspec": {
   "display_name": "Python 3 (ipykernel)",
   "language": "python",
   "name": "python3"
  },
  "language_info": {
   "codemirror_mode": {
    "name": "ipython",
    "version": 3
   },
   "file_extension": ".py",
   "mimetype": "text/x-python",
   "name": "python",
   "nbconvert_exporter": "python",
   "pygments_lexer": "ipython3",
   "version": "3.9.7"
  }
 },
 "nbformat": 4,
 "nbformat_minor": 5
}
