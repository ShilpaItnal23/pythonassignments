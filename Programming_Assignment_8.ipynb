{
 "cells": [
  {
   "cell_type": "markdown",
   "id": "0f607458",
   "metadata": {},
   "source": [
    "# Programming_Assignment_8"
   ]
  },
  {
   "cell_type": "markdown",
   "id": "558c6aea",
   "metadata": {},
   "source": [
    "# 1.\tWrite a Python Program to Add Two Matrices?"
   ]
  },
  {
   "cell_type": "code",
   "execution_count": 31,
   "id": "cf6af6a1",
   "metadata": {},
   "outputs": [
    {
     "name": "stdout",
     "output_type": "stream",
     "text": [
      "Enter the Number of rows : 2\n",
      "Enter the Number of Columns: 2\n",
      "Enter the elements of First Matrix:\n",
      "1\n",
      "1\n",
      "1\n",
      "1\n",
      "First Matrix is: \n",
      "[1, 1]\n",
      "[1, 1]\n",
      "Enter the elements of Second Matrix:\n",
      "2\n",
      "2\n",
      "2\n",
      "2\n",
      "[2, 2]\n",
      "[2, 2]\n",
      "The Sum of Above two Matrices is : \n",
      "[3, 3]\n",
      "[3, 3]\n"
     ]
    }
   ],
   "source": [
    "rows = int(input(\"Enter the Number of rows : \" ))\n",
    "column = int(input(\"Enter the Number of Columns: \"))\n",
    "\n",
    "print(\"Enter the elements of First Matrix:\")\n",
    "matrix_a= [[int(input()) for i in range(column)] for i in range(rows)]\n",
    "print(\"First Matrix is: \")\n",
    "for n in matrix_a:\n",
    "    print(n)\n",
    "\n",
    "print(\"Enter the elements of Second Matrix:\")\n",
    "matrix_b= [[int(input()) for i in range(column)] for i in range(rows)]\n",
    "for n in matrix_b:\n",
    "    print(n)\n",
    "    \n",
    "result=[[0 for i in range(column)] for i in range(rows)]\n",
    "\n",
    "for i in range(rows):\n",
    "    for j in range(column):\n",
    "        result[i][j] = matrix_a[i][j]+matrix_b[i][j]\n",
    "\n",
    "print(\"The Sum of Above two Matrices is : \")\n",
    "for r in result:\n",
    "    print(r)"
   ]
  },
  {
   "cell_type": "markdown",
   "id": "65792a20",
   "metadata": {},
   "source": [
    "# 2.\tWrite a Python Program to Multiply Two Matrices?"
   ]
  },
  {
   "cell_type": "code",
   "execution_count": 12,
   "id": "ee6a6ff8",
   "metadata": {},
   "outputs": [
    {
     "name": "stdout",
     "output_type": "stream",
     "text": [
      "Enter rows and col of matrix1.....\n",
      "Enter the Number of rows : 2\n",
      "Enter the Number of Columns: 2\n",
      "Enter rows and col of matrix2.....\n",
      "Enter the Number of rows : 2\n",
      "Enter the Number of Columns: 2\n",
      "Enter the elements of First Matrix:\n",
      "2\n",
      "2\n",
      "2\n",
      "2\n",
      "First Matrix is: \n",
      "[2, 2]\n",
      "[2, 2]\n",
      "Enter the elements of Second Matrix:\n",
      "2\n",
      "2\n",
      "2\n",
      "2\n",
      "Second Matrix is: \n",
      "[2, 2]\n",
      "[2, 2]\n",
      "[[0, 0], [0, 0]]\n",
      "The Resultant Matrix Is ::>\n",
      "[8, 8]\n",
      "[8, 8]\n"
     ]
    }
   ],
   "source": [
    "print('Enter rows and col of matrix1.....')\n",
    "m = int(input(\"Enter the Number of rows : \" ))\n",
    "n = int(input(\"Enter the Number of Columns: \"))\n",
    "\n",
    "print('Enter rows and col of matrix2.....')\n",
    "p = int(input(\"Enter the Number of rows : \" ))\n",
    "q = int(input(\"Enter the Number of Columns: \"))\n",
    "\n",
    "if (n!=p):\n",
    "    print(\"Matrix multiplication is not possible \")\n",
    "else:\n",
    "    print(\"Enter the elements of First Matrix:\")\n",
    "    matrix_a= [[int(input()) for i in range(m)] for j in range(n)]\n",
    "    print(\"First Matrix is: \")\n",
    "    for n in matrix_a:\n",
    "        print(n)\n",
    "        \n",
    "    print(\"Enter the elements of Second Matrix:\")\n",
    "    matrix_b= [[int(input()) for i in range(p)] for j in range(q)]\n",
    "    print(\"Second Matrix is: \")\n",
    "    for n in matrix_b:\n",
    "        print(n)\n",
    "    \n",
    "    result=[[0 for i in range(m)] for i in range(q)]\n",
    "        \n",
    "    for i in range(len(matrix_a)): \n",
    "        for j in range(len(matrix_b[0])): \n",
    "            for k in range(len(matrix_b)): \n",
    "                 result[i][j] += matrix_a[i][k] * matrix_b[k][j] \n",
    "    print(\"The Resultant Matrix Is ::>\")\n",
    "    for r in result: \n",
    "        print(r) \n",
    "    "
   ]
  },
  {
   "cell_type": "markdown",
   "id": "d7932b7b",
   "metadata": {},
   "source": [
    "# 3.\tWrite a Python Program to Transpose a Matrix?"
   ]
  },
  {
   "cell_type": "code",
   "execution_count": 16,
   "id": "0ffdd53c",
   "metadata": {},
   "outputs": [
    {
     "name": "stdout",
     "output_type": "stream",
     "text": [
      "Enter the Number of rows : 3\n",
      "Enter the Number of Columns: 3\n",
      "Enter the elements of First Matrix:\n",
      "1\n",
      "2\n",
      "3\n",
      "4\n",
      "5\n",
      "6\n",
      "7\n",
      "8\n",
      "9\n",
      "First Matrix is: \n",
      "[1, 2, 3]\n",
      "[4, 5, 6]\n",
      "[7, 8, 9]\n",
      "Transpose of matrix is:\n",
      "[1, 4, 7]\n",
      "[2, 5, 8]\n",
      "[3, 6, 9]\n"
     ]
    }
   ],
   "source": [
    "rows = int(input(\"Enter the Number of rows : \" ))\n",
    "column = int(input(\"Enter the Number of Columns: \"))\n",
    "\n",
    "print(\"Enter the elements of First Matrix:\")\n",
    "matrix_a= [[int(input()) for i in range(column)] for i in range(rows)]\n",
    "print(\"First Matrix is: \")\n",
    "for n in matrix_a:\n",
    "    print(n)\n",
    "\n",
    "matrix_b=[[0 for i in range(column)] for i in range(rows)]\n",
    "\n",
    "print(\"Transpose of matrix is:\")\n",
    "9for i in range(rows):\n",
    "    for j in range(column):\n",
    "        matrix_b[j][i]=matrix_a[i][j]\n",
    "    \n",
    "for t in matrix_b:\n",
    "    print(t)\n",
    "                   \n",
    "\n",
    "    "
   ]
  },
  {
   "cell_type": "markdown",
   "id": "6e3c9753",
   "metadata": {},
   "source": [
    "# 4.\tWrite a Python Program to Sort Words in Alphabetic Order?\n"
   ]
  },
  {
   "cell_type": "code",
   "execution_count": 21,
   "id": "0d6f158a",
   "metadata": {},
   "outputs": [
    {
     "name": "stdout",
     "output_type": "stream",
     "text": [
      "Enter a stringHello Appu Happy Birth Day\n",
      "['appu', 'birth', 'day', 'happy', 'hello']\n"
     ]
    }
   ],
   "source": [
    "my_str = input(\"Enter a string\")\n",
    "words = [word.lower() for word in my_str.split()]\n",
    "words.sort()\n",
    "print(words)"
   ]
  },
  {
   "cell_type": "markdown",
   "id": "1d9697c7",
   "metadata": {},
   "source": [
    "# 5.\tWrite a Python Program to Remove Punctuation From a String?"
   ]
  },
  {
   "cell_type": "code",
   "execution_count": 28,
   "id": "e1224b0b",
   "metadata": {},
   "outputs": [
    {
     "name": "stdout",
     "output_type": "stream",
     "text": [
      "Happy Learning@ Pyhton!!!!!!!!!!\n",
      "New String:\n",
      "Happy Learning Pyhton\n"
     ]
    }
   ],
   "source": [
    "import re\n",
    "def RemovePunc(myString):\n",
    "    emptyString=\"\"\n",
    "    newString = re.sub(r'[^\\w\\s]',emptyString,myString)\n",
    "    print(\"New String:\\n{0}\".format(newString))\n",
    "    \n",
    "RemovePunc(input())"
   ]
  },
  {
   "cell_type": "code",
   "execution_count": null,
   "id": "03bce4cf",
   "metadata": {},
   "outputs": [],
   "source": []
  }
 ],
 "metadata": {
  "kernelspec": {
   "display_name": "Python 3 (ipykernel)",
   "language": "python",
   "name": "python3"
  },
  "language_info": {
   "codemirror_mode": {
    "name": "ipython",
    "version": 3
   },
   "file_extension": ".py",
   "mimetype": "text/x-python",
   "name": "python",
   "nbconvert_exporter": "python",
   "pygments_lexer": "ipython3",
   "version": "3.9.7"
  }
 },
 "nbformat": 4,
 "nbformat_minor": 5
}
