{
 "cells": [
  {
   "cell_type": "markdown",
   "id": "3a09d1f3",
   "metadata": {},
   "source": [
    "# Programming Assignment_4\n"
   ]
  },
  {
   "cell_type": "markdown",
   "id": "7efa1df0",
   "metadata": {},
   "source": [
    "# 1. Write a Python Program to Find the Factorial of a Number?"
   ]
  },
  {
   "cell_type": "code",
   "execution_count": 14,
   "id": "9bf6eb0f",
   "metadata": {},
   "outputs": [
    {
     "name": "stdout",
     "output_type": "stream",
     "text": [
      "7\n",
      "Factorial = 5040\n"
     ]
    }
   ],
   "source": [
    "class FactClass:\n",
    "    def fact(self, n):\n",
    "        fact=1\n",
    "        for i in range(1,n+1):\n",
    "            fact=fact*i\n",
    "        return fact\n",
    "f = FactClass()\n",
    "print(\"Factorial =\",f.fact(int(input())))"
   ]
  },
  {
   "cell_type": "markdown",
   "id": "476b1a0e",
   "metadata": {},
   "source": [
    "# 2.\tWrite a Python Program to Display the multiplication Table?"
   ]
  },
  {
   "cell_type": "code",
   "execution_count": 20,
   "id": "90bfff8e",
   "metadata": {},
   "outputs": [
    {
     "name": "stdout",
     "output_type": "stream",
     "text": [
      "5\n",
      "5 X 1 = 5\n",
      "5 X 2 = 10\n",
      "5 X 3 = 15\n",
      "5 X 4 = 20\n",
      "5 X 5 = 25\n",
      "5 X 6 = 30\n",
      "5 X 7 = 35\n",
      "5 X 8 = 40\n",
      "5 X 9 = 45\n",
      "5 X 10 = 50\n"
     ]
    }
   ],
   "source": [
    "class MultiplicationTable:\n",
    "    def __init__(self,num):\n",
    "        self.num=num\n",
    "    def table(self):\n",
    "        for i in range(1, 11):\n",
    "            print(self.num,'X',i,'=',(self.num*i))\n",
    "c = MultiplicationTable(int(input()))\n",
    "c.table()"
   ]
  },
  {
   "cell_type": "markdown",
   "id": "65379bd5",
   "metadata": {},
   "source": [
    "# 3.\tWrite a Python Program to Print the Fibonacci sequence?"
   ]
  },
  {
   "cell_type": "code",
   "execution_count": 32,
   "id": "998e0f03",
   "metadata": {},
   "outputs": [
    {
     "name": "stdout",
     "output_type": "stream",
     "text": [
      "7\n",
      "0\n",
      "1\n",
      "1\n",
      "2\n",
      "3\n",
      "5\n",
      "8\n"
     ]
    }
   ],
   "source": [
    "class Fibonacci:\n",
    "    def __init__(self,n):\n",
    "        self.n=n\n",
    "    def fibseries(self):\n",
    "        f1=0\n",
    "        f2=1\n",
    "        print(f1)\n",
    "        print(f2)\n",
    "        for i in range(1, self.n-1):\n",
    "            f3=f1+f2\n",
    "            print(f3)\n",
    "        \n",
    "            f1=f2\n",
    "            f2=f3\n",
    "f = Fibonacci(int(input()))\n",
    "f.fibseries()"
   ]
  },
  {
   "cell_type": "markdown",
   "id": "21375380",
   "metadata": {},
   "source": [
    "# 4.\tWrite a Python Program to Check Armstrong Number?"
   ]
  },
  {
   "cell_type": "code",
   "execution_count": 10,
   "id": "ae02fce6",
   "metadata": {},
   "outputs": [
    {
     "name": "stdout",
     "output_type": "stream",
     "text": [
      "371\n",
      "Armstrong\n"
     ]
    }
   ],
   "source": [
    "class Armstrong:\n",
    "    \n",
    "    def __init__(self,num):\n",
    "        \n",
    "        self.num=num\n",
    "    \n",
    "    def checkArmstrong(self):\n",
    "        sum=0\n",
    "        n=self.num\n",
    "        while(self.num!=0):\n",
    "            sum=sum + pow(self.num % 10,3)\n",
    "            self.num=self.num//10\n",
    "        \n",
    "        if sum == n:\n",
    "            print(\"Armstrong\")\n",
    "        else:\n",
    "            print(\"Not Armstrong\")\n",
    "a = Armstrong(int(input()))\n",
    "a.checkArmstrong()"
   ]
  },
  {
   "cell_type": "markdown",
   "id": "1ee63feb",
   "metadata": {},
   "source": [
    "# 5. Write a Python Program to find sum of natural numbers"
   ]
  },
  {
   "cell_type": "code",
   "execution_count": 16,
   "id": "c85eeda4",
   "metadata": {},
   "outputs": [
    {
     "name": "stdout",
     "output_type": "stream",
     "text": [
      "5\n",
      "sum = 15\n"
     ]
    }
   ],
   "source": [
    "class NaturalNumbers:\n",
    "    def __init__(self,num):\n",
    "        self.num=num\n",
    "    def sumOfNatural(self):\n",
    "        sum = 0\n",
    "        for i in range(self.num+1):\n",
    "            sum=sum+i\n",
    "        print(\"sum =\",sum)\n",
    "c = NaturalNumbers(int(input()))\n",
    "c.sumOfNatural()"
   ]
  },
  {
   "cell_type": "code",
   "execution_count": null,
   "id": "c864f9da",
   "metadata": {},
   "outputs": [],
   "source": []
  }
 ],
 "metadata": {
  "kernelspec": {
   "display_name": "Python 3 (ipykernel)",
   "language": "python",
   "name": "python3"
  },
  "language_info": {
   "codemirror_mode": {
    "name": "ipython",
    "version": 3
   },
   "file_extension": ".py",
   "mimetype": "text/x-python",
   "name": "python",
   "nbconvert_exporter": "python",
   "pygments_lexer": "ipython3",
   "version": "3.9.7"
  }
 },
 "nbformat": 4,
 "nbformat_minor": 5
}
