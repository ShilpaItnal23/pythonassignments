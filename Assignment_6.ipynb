{
 "cells": [
  {
   "cell_type": "markdown",
   "id": "213d89f7",
   "metadata": {},
   "source": [
    "## Assignment_6"
   ]
  },
  {
   "cell_type": "markdown",
   "id": "c4db1edf",
   "metadata": {},
   "source": [
    "### 1. What are escape characters, and how do you use them?"
   ]
  },
  {
   "cell_type": "raw",
   "id": "672847ac",
   "metadata": {},
   "source": [
    "An escape character lets you use characters that are otherwise impossible to put into a string.\n",
    "\n",
    "An escape character consists of a backslash (\\) followed by the character you want to add to the string."
   ]
  },
  {
   "cell_type": "code",
   "execution_count": 2,
   "id": "304e7296",
   "metadata": {},
   "outputs": [
    {
     "data": {
      "text/plain": [
       "'\\nEscape Character\\tPrints as\\n\\'\\tSingle quote\\n\"\\tDouble quote\\n\\t\\tTab\\n\\n\\tNewline (line break\\n'"
      ]
     },
     "execution_count": 2,
     "metadata": {},
     "output_type": "execute_result"
    }
   ],
   "source": [
    "'''\n",
    "Escape Character\tPrints as\n",
    "\\'\tSingle quote\n",
    "\\\"\tDouble quote\n",
    "\\t\tTab\n",
    "\\n\tNewline (line break\n",
    "'''"
   ]
  },
  {
   "cell_type": "markdown",
   "id": "0c9f8fe8",
   "metadata": {},
   "source": [
    "### 2. What do the escape characters n and t stand for?"
   ]
  },
  {
   "cell_type": "markdown",
   "id": "f3e22637",
   "metadata": {},
   "source": [
    "### \\n -----> newline\n",
    "### \\t -----> tab"
   ]
  },
  {
   "cell_type": "markdown",
   "id": "60936f6e",
   "metadata": {},
   "source": [
    "#### 3. What is the way to include backslash characters in a string?"
   ]
  },
  {
   "cell_type": "code",
   "execution_count": 4,
   "id": "029489b3",
   "metadata": {},
   "outputs": [
    {
     "data": {
      "text/plain": [
       "'\\n\\\\  Backslash (\\\\)    \\n\\'  Single quote (\\')     \\n\"  Double quote (\")\\n'"
      ]
     },
     "execution_count": 4,
     "metadata": {},
     "output_type": "execute_result"
    }
   ],
   "source": [
    "'''\n",
    "\\\\  Backslash (\\)    \n",
    "\\'  Single quote (')     \n",
    "\\\"  Double quote (\")\n",
    "'''"
   ]
  },
  {
   "cell_type": "markdown",
   "id": "00ea25c8",
   "metadata": {},
   "source": [
    "### 4. The string \"Howl's Moving Castle\" is a correct value. Why isn't the single quote character in the word Howl's not escaped a problem?"
   ]
  },
  {
   "cell_type": "markdown",
   "id": "9ffd992f",
   "metadata": {},
   "source": [
    "#### The single quote in Howl's is fine because you've used double quotes to mark the beginning and end of the string. \n",
    "#### like wise we can use double quotes in with single quotes."
   ]
  },
  {
   "cell_type": "code",
   "execution_count": 7,
   "id": "422cd646",
   "metadata": {},
   "outputs": [
    {
     "name": "stdout",
     "output_type": "stream",
     "text": [
      "HowI's Moving Castle\n"
     ]
    }
   ],
   "source": [
    "print(\"HowI's Moving Castle\")\n"
   ]
  },
  {
   "cell_type": "code",
   "execution_count": 8,
   "id": "dfae0e01",
   "metadata": {},
   "outputs": [
    {
     "name": "stdout",
     "output_type": "stream",
     "text": [
      "Its a \"Nice\" Sunday\n"
     ]
    }
   ],
   "source": [
    "# like wise we can use double quote in side single quote\n",
    "print('Its a \"Nice\" Sunday')"
   ]
  },
  {
   "cell_type": "markdown",
   "id": "4b33299d",
   "metadata": {},
   "source": [
    "#### 5. How do you write a string of newlines if you don't want to use the n character?"
   ]
  },
  {
   "cell_type": "markdown",
   "id": "79330525",
   "metadata": {},
   "source": [
    "##### we can use the parameter end ='\\n' in print function\n"
   ]
  },
  {
   "cell_type": "markdown",
   "id": "eaf8c134",
   "metadata": {},
   "source": [
    "### 6. What are the values of the given expressions?\n",
    "### 'Hello, world!'[1]\n",
    "### 'Hello, world!'[0:5]\n",
    "### 'Hello, world!'[:5]\n",
    "###  Hello, world!'[3:]\n"
   ]
  },
  {
   "cell_type": "code",
   "execution_count": 10,
   "id": "c4c78e24",
   "metadata": {},
   "outputs": [
    {
     "data": {
      "text/plain": [
       "'e'"
      ]
     },
     "execution_count": 10,
     "metadata": {},
     "output_type": "execute_result"
    }
   ],
   "source": [
    "'Hello, world!'[1]"
   ]
  },
  {
   "cell_type": "code",
   "execution_count": 11,
   "id": "cca2d4de",
   "metadata": {},
   "outputs": [
    {
     "data": {
      "text/plain": [
       "'Hello'"
      ]
     },
     "execution_count": 11,
     "metadata": {},
     "output_type": "execute_result"
    }
   ],
   "source": [
    "'Hello, world!'[0:5]"
   ]
  },
  {
   "cell_type": "code",
   "execution_count": 12,
   "id": "de9c0da8",
   "metadata": {},
   "outputs": [
    {
     "data": {
      "text/plain": [
       "'Hello'"
      ]
     },
     "execution_count": 12,
     "metadata": {},
     "output_type": "execute_result"
    }
   ],
   "source": [
    "'Hello, world!'[:5]"
   ]
  },
  {
   "cell_type": "code",
   "execution_count": 13,
   "id": "c82688ba",
   "metadata": {},
   "outputs": [
    {
     "data": {
      "text/plain": [
       "'lo, world!'"
      ]
     },
     "execution_count": 13,
     "metadata": {},
     "output_type": "execute_result"
    }
   ],
   "source": [
    "'Hello, world!'[3:]"
   ]
  },
  {
   "cell_type": "markdown",
   "id": "58d12f2b",
   "metadata": {},
   "source": [
    "#### 7. What are the values of the following expressions?"
   ]
  },
  {
   "cell_type": "markdown",
   "id": "f8ca08df",
   "metadata": {},
   "source": [
    "\n",
    "#### 'Hello'.upper()\n",
    "#### 'Hello'.upper().isupper()\n",
    "#### 'Hello'.upper().lower()\n"
   ]
  },
  {
   "cell_type": "code",
   "execution_count": 14,
   "id": "3e143443",
   "metadata": {},
   "outputs": [
    {
     "data": {
      "text/plain": [
       "'HELLO'"
      ]
     },
     "execution_count": 14,
     "metadata": {},
     "output_type": "execute_result"
    }
   ],
   "source": [
    "'Hello'.upper()"
   ]
  },
  {
   "cell_type": "code",
   "execution_count": 15,
   "id": "aebc3bed",
   "metadata": {},
   "outputs": [
    {
     "data": {
      "text/plain": [
       "True"
      ]
     },
     "execution_count": 15,
     "metadata": {},
     "output_type": "execute_result"
    }
   ],
   "source": [
    "'Hello'.upper().isupper()"
   ]
  },
  {
   "cell_type": "code",
   "execution_count": 16,
   "id": "5fa957af",
   "metadata": {},
   "outputs": [
    {
     "data": {
      "text/plain": [
       "'hello'"
      ]
     },
     "execution_count": 16,
     "metadata": {},
     "output_type": "execute_result"
    }
   ],
   "source": [
    "'Hello'.upper().lower()"
   ]
  },
  {
   "cell_type": "markdown",
   "id": "9f4ab295",
   "metadata": {},
   "source": [
    "### 8. What are the values of the following expressions?\n",
    "#### 'Remember, remember, the fifth of July.'.split() '-'.join('There can only one.'.split())\n",
    "######  'Remember, remember, the fifth of July.'.split() -> splits with space and returns list of words '-'.join('There can only one.'.split()) splits with space and join with '_'"
   ]
  },
  {
   "cell_type": "code",
   "execution_count": 17,
   "id": "2f380f0f",
   "metadata": {},
   "outputs": [
    {
     "data": {
      "text/plain": [
       "['Remember,', 'remember,', 'the', 'fifth', 'of', 'July.']"
      ]
     },
     "execution_count": 17,
     "metadata": {},
     "output_type": "execute_result"
    }
   ],
   "source": [
    "'Remember, remember, the fifth of July.'.split()"
   ]
  },
  {
   "cell_type": "markdown",
   "id": "df6615bb",
   "metadata": {},
   "source": [
    "##### 9. What are the methods for right-justifying, left-justifying, and centering a string?"
   ]
  },
  {
   "cell_type": "raw",
   "id": "3f50fae4",
   "metadata": {},
   "source": [
    "The following methods are used for justifying strings\n",
    "ljust()\n",
    "rjust()\n",
    "center()"
   ]
  },
  {
   "cell_type": "code",
   "execution_count": 22,
   "id": "79fa375d",
   "metadata": {},
   "outputs": [
    {
     "data": {
      "text/plain": [
       "'Hello----------'"
      ]
     },
     "execution_count": 22,
     "metadata": {},
     "output_type": "execute_result"
    }
   ],
   "source": [
    "# left justified\n",
    "str =\"Hello\"\n",
    "str.ljust(15,\"-\")"
   ]
  },
  {
   "cell_type": "code",
   "execution_count": 25,
   "id": "90452e2f",
   "metadata": {},
   "outputs": [
    {
     "data": {
      "text/plain": [
       "'*****************************How are you'"
      ]
     },
     "execution_count": 25,
     "metadata": {},
     "output_type": "execute_result"
    }
   ],
   "source": [
    "# right justified\n",
    "str =\"How are you\"\n",
    "str.rjust(40,'*')"
   ]
  },
  {
   "cell_type": "code",
   "execution_count": 26,
   "id": "ac5d457a",
   "metadata": {},
   "outputs": [
    {
     "data": {
      "text/plain": [
       "'**************How are you***************'"
      ]
     },
     "execution_count": 26,
     "metadata": {},
     "output_type": "execute_result"
    }
   ],
   "source": [
    "# center justified\n",
    "str =\"How are you\"\n",
    "str.center(40,'*')"
   ]
  },
  {
   "cell_type": "markdown",
   "id": "06d91d1a",
   "metadata": {},
   "source": [
    "#### 10. What is the best way to remove whitespace characters from the start or end?"
   ]
  },
  {
   "cell_type": "raw",
   "id": "2f980a6c",
   "metadata": {},
   "source": [
    "lstrip() -> removes white spaces from left of the string\n",
    "rstrip() -> removes whitespaces from right of the string"
   ]
  },
  {
   "cell_type": "code",
   "execution_count": 27,
   "id": "b9f1783e",
   "metadata": {},
   "outputs": [
    {
     "data": {
      "text/plain": [
       "'hkjhjdfhjd jkhjhd  '"
      ]
     },
     "execution_count": 27,
     "metadata": {},
     "output_type": "execute_result"
    }
   ],
   "source": [
    "str =\"  hkjhjdfhjd jkhjhd  \"\n",
    "str.lstrip()"
   ]
  },
  {
   "cell_type": "code",
   "execution_count": 28,
   "id": "33f730bc",
   "metadata": {},
   "outputs": [
    {
     "data": {
      "text/plain": [
       "'  hkjhjdfhjd jkhjhd'"
      ]
     },
     "execution_count": 28,
     "metadata": {},
     "output_type": "execute_result"
    }
   ],
   "source": [
    "str =\"  hkjhjdfhjd jkhjhd  \"\n",
    "str.rstrip()"
   ]
  }
 ],
 "metadata": {
  "kernelspec": {
   "display_name": "Python 3 (ipykernel)",
   "language": "python",
   "name": "python3"
  },
  "language_info": {
   "codemirror_mode": {
    "name": "ipython",
    "version": 3
   },
   "file_extension": ".py",
   "mimetype": "text/x-python",
   "name": "python",
   "nbconvert_exporter": "python",
   "pygments_lexer": "ipython3",
   "version": "3.9.7"
  }
 },
 "nbformat": 4,
 "nbformat_minor": 5
}
