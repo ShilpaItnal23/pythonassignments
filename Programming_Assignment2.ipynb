{
 "cells": [
  {
   "cell_type": "markdown",
   "id": "e7fd26cc",
   "metadata": {},
   "source": [
    "# 1.Write a Python program to convert kilometers to miles?"
   ]
  },
  {
   "cell_type": "code",
   "execution_count": 3,
   "id": "28b23c85",
   "metadata": {},
   "outputs": [
    {
     "name": "stdout",
     "output_type": "stream",
     "text": [
      "Distance in miles 12.5\n"
     ]
    }
   ],
   "source": [
    "class Convert:\n",
    "    def __init__(self,km):\n",
    "        self.km=km\n",
    "    def calculate(self):\n",
    "        return self.km/1.6\n",
    "c = Convert(20)\n",
    "print(\"Distance in miles = \",c.calculate())\n",
    "        "
   ]
  },
  {
   "cell_type": "markdown",
   "id": "e9084112",
   "metadata": {},
   "source": [
    "# 2.\tWrite a Python program to convert Celsius to Fahrenheit?"
   ]
  },
  {
   "cell_type": "code",
   "execution_count": 11,
   "id": "36362df4",
   "metadata": {},
   "outputs": [
    {
     "name": "stdout",
     "output_type": "stream",
     "text": [
      "12\n",
      "Farenheit = 21.6\n"
     ]
    }
   ],
   "source": [
    "class FarenConvert:\n",
    "    def __init__(self,c):\n",
    "        self.c=c\n",
    "        \n",
    "    def convert(self):\n",
    "        return (self.c*9/5)\n",
    "f = FarenConvert(float(input()))\n",
    "print(\"Farenheit =\", f.convert())"
   ]
  },
  {
   "cell_type": "markdown",
   "id": "ad5006ef",
   "metadata": {},
   "source": [
    "# 3.Write a Python program to display calendar?"
   ]
  },
  {
   "cell_type": "code",
   "execution_count": 16,
   "id": "8a6ee59d",
   "metadata": {},
   "outputs": [
    {
     "name": "stdout",
     "output_type": "stream",
     "text": [
      "Enter year: 2007\n",
      "Enter month: 7\n",
      "     July 2007\n",
      "Mo Tu We Th Fr Sa Su\n",
      "                   1\n",
      " 2  3  4  5  6  7  8\n",
      " 9 10 11 12 13 14 15\n",
      "16 17 18 19 20 21 22\n",
      "23 24 25 26 27 28 29\n",
      "30 31\n",
      "\n"
     ]
    }
   ],
   "source": [
    "# Program to display calendar of the given month and year\n",
    "\n",
    "# importing calendar module\n",
    "import calendar\n",
    "\n",
    "#yy = 2022  # year\n",
    "#mm = 3    # month\n",
    "\n",
    "# To take month and year input from the user\n",
    "yy = int(input(\"Enter year: \"))\n",
    "mm = int(input(\"Enter month: \"))\n",
    "\n",
    "# display the calendar\n",
    "print(calendar.month(yy, mm))\n"
   ]
  },
  {
   "cell_type": "markdown",
   "id": "17675df6",
   "metadata": {},
   "source": [
    "# 4.Write a Python program to solve quadratic equation?"
   ]
  },
  {
   "cell_type": "code",
   "execution_count": 30,
   "id": "eb594811",
   "metadata": {},
   "outputs": [],
   "source": [
    "# Python program to find roots of quadratic equation  \n",
    "import math  \n",
    "  \n",
    "class Quadratic:  \n",
    "    def __init__(self,a,b,c):\n",
    "        self.a=a\n",
    "        self.b=b\n",
    "        self.c=c\n",
    "    \n",
    "        if self. a == 0:\n",
    "            print(\"Incorrect quadratic equation\")  \n",
    "  \n",
    "    \n",
    "     \n",
    "# function for finding roots  \n",
    "    def findRoots(self):\n",
    "        dis_form = self.b * self.b - 4 * self.a * self.c  \n",
    "        sqrt_val = math.sqrt(abs(dis_form))  \n",
    "        if dis_form > 0:\n",
    "            print(\" real and different roots \")  \n",
    "            print((-self.b + sqrt_val) / (2 * self.a))  \n",
    "            print((-self.b - sqrt_val) / (2 * self.a))  \n",
    "  \n",
    "        elif dis_form == 0:\n",
    "            print(\" real and same roots\")  \n",
    "            print(-self.b / (2 * self.a))  \n",
    "        else:\n",
    "            print(\"Complex Roots\")  \n",
    "            print(- self.b / (2 * self.a), \" + i\", sqrt_val)  \n",
    "            print(- self.b / (2 * self.a), \" - i\", sqrt_val)  \n",
    "  \n",
    "        \n",
    "        "
   ]
  },
  {
   "cell_type": "code",
   "execution_count": 34,
   "id": "a9a1e2cb",
   "metadata": {},
   "outputs": [
    {
     "name": "stdout",
     "output_type": "stream",
     "text": [
      "1\n",
      "2\n",
      "1\n"
     ]
    }
   ],
   "source": [
    "q = Quadratic( int(input()),int(input()),int(input()))\n"
   ]
  },
  {
   "cell_type": "code",
   "execution_count": 35,
   "id": "cf133a58",
   "metadata": {},
   "outputs": [
    {
     "name": "stdout",
     "output_type": "stream",
     "text": [
      " real and same roots\n",
      "-1.0\n"
     ]
    }
   ],
   "source": [
    "q.findRoots()"
   ]
  },
  {
   "cell_type": "markdown",
   "id": "b8443aa7",
   "metadata": {},
   "source": [
    "# 5.\tWrite a Python program to swap two variables without temp variable?"
   ]
  },
  {
   "cell_type": "code",
   "execution_count": 39,
   "id": "46385598",
   "metadata": {},
   "outputs": [
    {
     "name": "stdout",
     "output_type": "stream",
     "text": [
      "10\n",
      "40\n",
      "After swap: a = 40 b= 10\n"
     ]
    }
   ],
   "source": [
    "class Swap:\n",
    "    def __init__(self,a,b):\n",
    "        self.a=a\n",
    "        self.b=b\n",
    "    def swapMethod(self):\n",
    "        self.a=self.a+self.b\n",
    "        self.b=self.a-self.b\n",
    "        self.a=self.a-self.b\n",
    "        print(\"After swap: a =\", self.a, \"b=\",self.b)\n",
    "s = Swap( int(input()),int(input()))\n",
    "s.swapMethod()"
   ]
  },
  {
   "cell_type": "code",
   "execution_count": null,
   "id": "1caeb14b",
   "metadata": {},
   "outputs": [],
   "source": []
  }
 ],
 "metadata": {
  "kernelspec": {
   "display_name": "Python 3 (ipykernel)",
   "language": "python",
   "name": "python3"
  },
  "language_info": {
   "codemirror_mode": {
    "name": "ipython",
    "version": 3
   },
   "file_extension": ".py",
   "mimetype": "text/x-python",
   "name": "python",
   "nbconvert_exporter": "python",
   "pygments_lexer": "ipython3",
   "version": "3.9.7"
  }
 },
 "nbformat": 4,
 "nbformat_minor": 5
}
