{
 "cells": [
  {
   "cell_type": "markdown",
   "id": "dd88420f",
   "metadata": {},
   "source": [
    "# 1.Write a Python program to convert kilometers to miles?"
   ]
  },
  {
   "cell_type": "code",
   "execution_count": 3,
   "id": "fd2f817a",
   "metadata": {},
   "outputs": [
    {
     "name": "stdout",
     "output_type": "stream",
     "text": [
      "Distance in miles 12.5\n"
     ]
    }
   ],
   "source": [
    "class Convert:\n",
    "    def __init__(self,km):\n",
    "        self.km=km\n",
    "    def calculate(self):\n",
    "        return self.km/1.6\n",
    "c = Convert(20)\n",
    "print(\"Distance in miles = \",c.calculate())\n",
    "        "
   ]
  },
  {
   "cell_type": "markdown",
   "id": "1d5f0194",
   "metadata": {},
   "source": [
    "# 2.\tWrite a Python program to convert Celsius to Fahrenheit?"
   ]
  },
  {
   "cell_type": "code",
   "execution_count": 11,
   "id": "4e8bd1f6",
   "metadata": {},
   "outputs": [
    {
     "name": "stdout",
     "output_type": "stream",
     "text": [
      "12\n",
      "Farenheit = 21.6\n"
     ]
    }
   ],
   "source": [
    "class FarenConvert:\n",
    "    def __init__(self,c):\n",
    "        self.c=c\n",
    "        \n",
    "    def convert(self):\n",
    "        return (self.c*9/5)\n",
    "f = FarenConvert(float(input()))\n",
    "print(\"Farenheit =\", f.convert())"
   ]
  },
  {
   "cell_type": "markdown",
   "id": "87234389",
   "metadata": {},
   "source": [
    "# 3.Write a Python program to display calendar?"
   ]
  },
  {
   "cell_type": "code",
   "execution_count": 16,
   "id": "2b074716",
   "metadata": {},
   "outputs": [
    {
     "name": "stdout",
     "output_type": "stream",
     "text": [
      "Enter year: 2007\n",
      "Enter month: 7\n",
      "     July 2007\n",
      "Mo Tu We Th Fr Sa Su\n",
      "                   1\n",
      " 2  3  4  5  6  7  8\n",
      " 9 10 11 12 13 14 15\n",
      "16 17 18 19 20 21 22\n",
      "23 24 25 26 27 28 29\n",
      "30 31\n",
      "\n"
     ]
    }
   ],
   "source": [
    "# Program to display calendar of the given month and year\n",
    "\n",
    "# importing calendar module\n",
    "import calendar\n",
    "\n",
    "#yy = 2022  # year\n",
    "#mm = 3    # month\n",
    "\n",
    "# To take month and year input from the user\n",
    "yy = int(input(\"Enter year: \"))\n",
    "mm = int(input(\"Enter month: \"))\n",
    "\n",
    "# display the calendar\n",
    "print(calendar.month(yy, mm))\n"
   ]
  },
  {
   "cell_type": "markdown",
   "id": "341512dd",
   "metadata": {},
   "source": [
    "# 4.Write a Python program to solve quadratic equation?"
   ]
  },
  {
   "cell_type": "code",
   "execution_count": 30,
   "id": "f7ae1e97",
   "metadata": {},
   "outputs": [],
   "source": [
    "# Python program to find roots of quadratic equation  \n",
    "import math  \n",
    "  \n",
    "class Quadratic:  \n",
    "    def __init__(self,a,b,c):\n",
    "        self.a=a\n",
    "        self.b=b\n",
    "        self.c=c\n",
    "    \n",
    "        if self. a == 0:\n",
    "            print(\"Incorrect quadratic equation\")  \n",
    "  \n",
    "    \n",
    "     \n",
    "# function for finding roots  \n",
    "    def findRoots(self):\n",
    "        dis_form = self.b * self.b - 4 * self.a * self.c  \n",
    "        sqrt_val = math.sqrt(abs(dis_form))  \n",
    "        if dis_form > 0:\n",
    "            print(\" real and different roots \")  \n",
    "            print((-self.b + sqrt_val) / (2 * self.a))  \n",
    "            print((-self.b - sqrt_val) / (2 * self.a))  \n",
    "  \n",
    "        elif dis_form == 0:\n",
    "            print(\" real and same roots\")  \n",
    "            print(-self.b / (2 * self.a))  \n",
    "        else:\n",
    "            print(\"Complex Roots\")  \n",
    "            print(- self.b / (2 * self.a), \" + i\", sqrt_val)  \n",
    "            print(- self.b / (2 * self.a), \" - i\", sqrt_val)  \n",
    "  \n",
    "        \n",
    "        "
   ]
  },
  {
   "cell_type": "code",
   "execution_count": 34,
   "id": "3a174963",
   "metadata": {},
   "outputs": [
    {
     "name": "stdout",
     "output_type": "stream",
     "text": [
      "1\n",
      "2\n",
      "1\n"
     ]
    }
   ],
   "source": [
    "q = Quadratic( int(input()),int(input()),int(input()))\n"
   ]
  },
  {
   "cell_type": "code",
   "execution_count": 35,
   "id": "f7af1990",
   "metadata": {},
   "outputs": [
    {
     "name": "stdout",
     "output_type": "stream",
     "text": [
      " real and same roots\n",
      "-1.0\n"
     ]
    }
   ],
   "source": [
    "q.findRoots()"
   ]
  },
  {
   "cell_type": "markdown",
   "id": "e7ebc82b",
   "metadata": {},
   "source": [
    "# 5.\tWrite a Python program to swap two variables without temp variable?"
   ]
  },
  {
   "cell_type": "code",
   "execution_count": 38,
   "id": "bab8e067",
   "metadata": {},
   "outputs": [
    {
     "name": "stdout",
     "output_type": "stream",
     "text": [
      "10\n",
      "30\n"
     ]
    },
    {
     "ename": "UnboundLocalError",
     "evalue": "local variable 'a' referenced before assignment",
     "output_type": "error",
     "traceback": [
      "\u001b[1;31m---------------------------------------------------------------------------\u001b[0m",
      "\u001b[1;31mUnboundLocalError\u001b[0m                         Traceback (most recent call last)",
      "\u001b[1;32m~\\AppData\\Local\\Temp/ipykernel_8632/531049428.py\u001b[0m in \u001b[0;36m<module>\u001b[1;34m\u001b[0m\n\u001b[0;32m      9\u001b[0m         \u001b[0mprint\u001b[0m\u001b[1;33m(\u001b[0m\u001b[1;34m\"After swap: a =\"\u001b[0m\u001b[1;33m,\u001b[0m \u001b[0mself\u001b[0m\u001b[1;33m.\u001b[0m\u001b[0ma\u001b[0m\u001b[1;33m,\u001b[0m \u001b[1;34m\"b=\"\u001b[0m\u001b[1;33m,\u001b[0m\u001b[0mself\u001b[0m\u001b[1;33m.\u001b[0m\u001b[0mb\u001b[0m\u001b[1;33m)\u001b[0m\u001b[1;33m\u001b[0m\u001b[1;33m\u001b[0m\u001b[0m\n\u001b[0;32m     10\u001b[0m \u001b[0ms\u001b[0m \u001b[1;33m=\u001b[0m \u001b[0mSwap\u001b[0m\u001b[1;33m(\u001b[0m \u001b[0mint\u001b[0m\u001b[1;33m(\u001b[0m\u001b[0minput\u001b[0m\u001b[1;33m(\u001b[0m\u001b[1;33m)\u001b[0m\u001b[1;33m)\u001b[0m\u001b[1;33m,\u001b[0m\u001b[0mint\u001b[0m\u001b[1;33m(\u001b[0m\u001b[0minput\u001b[0m\u001b[1;33m(\u001b[0m\u001b[1;33m)\u001b[0m\u001b[1;33m)\u001b[0m\u001b[1;33m)\u001b[0m\u001b[1;33m\u001b[0m\u001b[1;33m\u001b[0m\u001b[0m\n\u001b[1;32m---> 11\u001b[1;33m \u001b[0ms\u001b[0m\u001b[1;33m.\u001b[0m\u001b[0mswapMethod\u001b[0m\u001b[1;33m(\u001b[0m\u001b[1;33m)\u001b[0m\u001b[1;33m\u001b[0m\u001b[1;33m\u001b[0m\u001b[0m\n\u001b[0m",
      "\u001b[1;32m~\\AppData\\Local\\Temp/ipykernel_8632/531049428.py\u001b[0m in \u001b[0;36mswapMethod\u001b[1;34m(self)\u001b[0m\n\u001b[0;32m      4\u001b[0m         \u001b[0mself\u001b[0m\u001b[1;33m.\u001b[0m\u001b[0mb\u001b[0m\u001b[1;33m=\u001b[0m\u001b[0mb\u001b[0m\u001b[1;33m\u001b[0m\u001b[1;33m\u001b[0m\u001b[0m\n\u001b[0;32m      5\u001b[0m     \u001b[1;32mdef\u001b[0m \u001b[0mswapMethod\u001b[0m\u001b[1;33m(\u001b[0m\u001b[0mself\u001b[0m\u001b[1;33m)\u001b[0m\u001b[1;33m:\u001b[0m\u001b[1;33m\u001b[0m\u001b[1;33m\u001b[0m\u001b[0m\n\u001b[1;32m----> 6\u001b[1;33m         \u001b[0ma\u001b[0m\u001b[1;33m=\u001b[0m\u001b[0ma\u001b[0m\u001b[1;33m+\u001b[0m\u001b[0mb\u001b[0m\u001b[1;33m\u001b[0m\u001b[1;33m\u001b[0m\u001b[0m\n\u001b[0m\u001b[0;32m      7\u001b[0m         \u001b[0mb\u001b[0m\u001b[1;33m=\u001b[0m\u001b[0ma\u001b[0m\u001b[1;33m-\u001b[0m\u001b[0mb\u001b[0m\u001b[1;33m\u001b[0m\u001b[1;33m\u001b[0m\u001b[0m\n\u001b[0;32m      8\u001b[0m         \u001b[0ma\u001b[0m\u001b[1;33m=\u001b[0m\u001b[0ma\u001b[0m\u001b[1;33m-\u001b[0m\u001b[0mb\u001b[0m\u001b[1;33m\u001b[0m\u001b[1;33m\u001b[0m\u001b[0m\n",
      "\u001b[1;31mUnboundLocalError\u001b[0m: local variable 'a' referenced before assignment"
     ]
    }
   ],
   "source": [
    "class Swap:\n",
    "    def __init__(self,a,b):\n",
    "        self.a=a\n",
    "        self.b=b\n",
    "    def swapMethod(self):\n",
    "        self.a=self.a+self.b\n",
    "        self.b=self.a-self.b\n",
    "        self.a=self.a-self.b\n",
    "        print(\"After swap: a =\", self.a, \"b=\",self.b)\n",
    "s = Swap( int(input()),int(input()))\n",
    "s.swapMethod()"
   ]
  },
  {
   "cell_type": "code",
   "execution_count": null,
   "id": "c96c8a86",
   "metadata": {},
   "outputs": [],
   "source": []
  }
 ],
 "metadata": {
  "kernelspec": {
   "display_name": "Python 3 (ipykernel)",
   "language": "python",
   "name": "python3"
  },
  "language_info": {
   "codemirror_mode": {
    "name": "ipython",
    "version": 3
   },
   "file_extension": ".py",
   "mimetype": "text/x-python",
   "name": "python",
   "nbconvert_exporter": "python",
   "pygments_lexer": "ipython3",
   "version": "3.9.7"
  }
 },
 "nbformat": 4,
 "nbformat_minor": 5
}
