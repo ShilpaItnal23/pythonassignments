{
 "cells": [
  {
   "cell_type": "markdown",
   "id": "00ac3fcc",
   "metadata": {},
   "source": [
    "# Programming_Assignment1"
   ]
  },
  {
   "cell_type": "markdown",
   "id": "9176f52c",
   "metadata": {},
   "source": [
    "# 1.\tWrite a Python program to print \"Hello Python\"?"
   ]
  },
  {
   "cell_type": "code",
   "execution_count": 1,
   "id": "a45f4b1d",
   "metadata": {},
   "outputs": [
    {
     "name": "stdout",
     "output_type": "stream",
     "text": [
      "Hello Python\n"
     ]
    }
   ],
   "source": [
    "print(\"Hello Python\")"
   ]
  },
  {
   "cell_type": "code",
   "execution_count": 2,
   "id": "4899a567",
   "metadata": {},
   "outputs": [
    {
     "name": "stdout",
     "output_type": "stream",
     "text": [
      "Hello Python\n"
     ]
    }
   ],
   "source": [
    "def display():\n",
    "    print(\"Hello Python\")\n",
    "display()"
   ]
  },
  {
   "cell_type": "code",
   "execution_count": 3,
   "id": "b812e798",
   "metadata": {},
   "outputs": [
    {
     "name": "stdout",
     "output_type": "stream",
     "text": [
      "Hello Python\n"
     ]
    }
   ],
   "source": [
    "class Display:\n",
    "    def display(self):\n",
    "        print(\"Hello Python\")\n",
    "d = Display()\n",
    "d.display()"
   ]
  },
  {
   "cell_type": "markdown",
   "id": "8e4dd901",
   "metadata": {},
   "source": [
    "# 2.\tWrite a Python program to do arithmetical operations addition and division.?"
   ]
  },
  {
   "cell_type": "code",
   "execution_count": 14,
   "id": "df270a1d",
   "metadata": {},
   "outputs": [
    {
     "name": "stdout",
     "output_type": "stream",
     "text": [
      "12\n",
      "5.0\n"
     ]
    }
   ],
   "source": [
    "class Arithmetic:\n",
    "    def __init__(self, a, b):\n",
    "        self.a=a\n",
    "        self.b=b\n",
    "    def addition(self):\n",
    "        return self.a+self.b\n",
    "    def division(self):\n",
    "        try:\n",
    "            return self.a/self.b\n",
    "        except Exception as e:\n",
    "            print( e)\n",
    "a = Arithmetic(10,2)\n",
    "print(a.addition())\n",
    "print(a.division())\n",
    "    "
   ]
  },
  {
   "cell_type": "markdown",
   "id": "92c271fc",
   "metadata": {},
   "source": [
    "# 3.\tWrite a Python program to find the area of a triangle?"
   ]
  },
  {
   "cell_type": "code",
   "execution_count": 7,
   "id": "a58b8796",
   "metadata": {},
   "outputs": [
    {
     "name": "stdout",
     "output_type": "stream",
     "text": [
      "Area= 200\n"
     ]
    }
   ],
   "source": [
    "class Rectangle:\n",
    "    def __init__(self, length, bredth):\n",
    "        self.length=length\n",
    "        self.bredth=bredth\n",
    "    def area(self):\n",
    "        return self.length*self.bredth\n",
    "r = Rectangle(10,20)\n",
    "\n",
    "print(\"Area=\",r.area())"
   ]
  },
  {
   "cell_type": "markdown",
   "id": "19ebfdf3",
   "metadata": {},
   "source": [
    "# 4.\tWrite a Python program to swap two variables?"
   ]
  },
  {
   "cell_type": "code",
   "execution_count": 52,
   "id": "9d9e8e69",
   "metadata": {},
   "outputs": [],
   "source": [
    "class Swap:\n",
    "    def __init__(self, a, b):\n",
    "        self.a=a\n",
    "        self.b=b\n",
    "    def exchange(self):\n",
    "        self.a = self.a+self.b \n",
    "        self.b = self.a-self.b \n",
    "        self.a = self.a-self.b\n",
    "        print(\"a=\",self.a,\"b=\",self.b)\n"
   ]
  },
  {
   "cell_type": "code",
   "execution_count": 53,
   "id": "d8688bae",
   "metadata": {},
   "outputs": [
    {
     "name": "stdout",
     "output_type": "stream",
     "text": [
      "a= 20 b= 10\n"
     ]
    }
   ],
   "source": [
    "s = Swap(10,20)\n",
    "s.exchange()\n"
   ]
  },
  {
   "cell_type": "markdown",
   "id": "988e7355",
   "metadata": {},
   "source": [
    "# 5.\tWrite a Python program to generate a random number?"
   ]
  },
  {
   "cell_type": "code",
   "execution_count": null,
   "id": "6c49907b",
   "metadata": {},
   "outputs": [],
   "source": []
  },
  {
   "cell_type": "code",
   "execution_count": null,
   "id": "3f8f27f2",
   "metadata": {},
   "outputs": [],
   "source": []
  },
  {
   "cell_type": "code",
   "execution_count": 29,
   "id": "1653c97b",
   "metadata": {},
   "outputs": [],
   "source": [
    "class Distance:\n",
    "    def __init__(self, feet, inches):\n",
    "        self.feet= feet\n",
    "        self.inches= inches\n",
    "    def __repr__(self):\n",
    "        return f'Feet=\"{self.feet}\", Inches = \"{self.inches}\" '\n",
    "    def __eq__(self, other):\n",
    "        if self.feet==other.feet and self.inches == other.inches:\n",
    "            return True\n",
    "        return False\n",
    "   \n",
    "d1 = Distance(4, 2)\n",
    "d2 = Distance(5, 2)\n"
   ]
  },
  {
   "cell_type": "code",
   "execution_count": 30,
   "id": "b8849e06",
   "metadata": {},
   "outputs": [
    {
     "data": {
      "text/plain": [
       "False"
      ]
     },
     "execution_count": 30,
     "metadata": {},
     "output_type": "execute_result"
    }
   ],
   "source": [
    "d1 == d2"
   ]
  },
  {
   "cell_type": "code",
   "execution_count": 37,
   "id": "cb387777",
   "metadata": {},
   "outputs": [],
   "source": [
    "class Distance:\n",
    "    def __init__(self, feet, inches):\n",
    "        self.feet= feet\n",
    "        self.inches= inches\n",
    "    def __repr__(self):\n",
    "        return f'Feet=\"{self.feet}\", Inches = \"{self.inches}\" '\n",
    "    def __gt__(self, other):\n",
    "        if self.feet>other.feet and self.inches > other.inches:\n",
    "            return True\n",
    "        return False\n",
    "    def __rgt__(self, other):\n",
    "        if self.feet>other.feet and self.inches > other.inches:\n",
    "            return True\n",
    "        return False\n",
    "\n",
    "d1 = Distance(4, 3)\n",
    "d2 = Distance(3, 2)\n",
    "d3 = Distance(2, 1)"
   ]
  },
  {
   "cell_type": "code",
   "execution_count": 38,
   "id": "77aa36fe",
   "metadata": {},
   "outputs": [
    {
     "data": {
      "text/plain": [
       "True"
      ]
     },
     "execution_count": 38,
     "metadata": {},
     "output_type": "execute_result"
    }
   ],
   "source": [
    "d1>d2>d3"
   ]
  },
  {
   "cell_type": "code",
   "execution_count": null,
   "id": "548fc3aa",
   "metadata": {},
   "outputs": [],
   "source": []
  }
 ],
 "metadata": {
  "kernelspec": {
   "display_name": "Python 3 (ipykernel)",
   "language": "python",
   "name": "python3"
  },
  "language_info": {
   "codemirror_mode": {
    "name": "ipython",
    "version": 3
   },
   "file_extension": ".py",
   "mimetype": "text/x-python",
   "name": "python",
   "nbconvert_exporter": "python",
   "pygments_lexer": "ipython3",
   "version": "3.9.7"
  }
 },
 "nbformat": 4,
 "nbformat_minor": 5
}
