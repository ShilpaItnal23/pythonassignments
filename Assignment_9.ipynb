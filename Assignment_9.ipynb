{
 "cells": [
  {
   "cell_type": "markdown",
   "id": "59671de3",
   "metadata": {},
   "source": [
    "### Assignment_9"
   ]
  },
  {
   "cell_type": "markdown",
   "id": "0864b3a9",
   "metadata": {},
   "source": [
    "### 1. To what does a relative path refer?"
   ]
  },
  {
   "cell_type": "raw",
   "id": "3fce8b8b",
   "metadata": {},
   "source": [
    "OS module in Python provides functions for interacting with the operating system. os.path.relpath() method in Python is used to get a relative filepath to the given path either from the current working directory or from the given directory."
   ]
  },
  {
   "cell_type": "code",
   "execution_count": 2,
   "id": "e2ab7c1b",
   "metadata": {},
   "outputs": [],
   "source": [
    "import os"
   ]
  },
  {
   "cell_type": "code",
   "execution_count": 5,
   "id": "bc86eb5a",
   "metadata": {},
   "outputs": [],
   "source": [
    "path = \"/home / User / Desktop / Chatbot.txt\""
   ]
  },
  {
   "cell_type": "code",
   "execution_count": 6,
   "id": "df572e77",
   "metadata": {},
   "outputs": [],
   "source": [
    "relative_path = os.path.relpath(path)"
   ]
  },
  {
   "cell_type": "code",
   "execution_count": 7,
   "id": "d8657f02",
   "metadata": {},
   "outputs": [
    {
     "name": "stdout",
     "output_type": "stream",
     "text": [
      "..\\..\\..\\..\\home \\ User \\ Desktop \\ Chatbot.txt\n"
     ]
    }
   ],
   "source": [
    "print(relative_path)"
   ]
  },
  {
   "cell_type": "markdown",
   "id": "1ad1a67d",
   "metadata": {},
   "source": [
    "### 2. What does an absolute path start with your operating system?"
   ]
  },
  {
   "cell_type": "raw",
   "id": "89c36d43",
   "metadata": {},
   "source": [
    "An absolute path is a path that contains the entire path to the file or directory that you need to access. This path will begin at the home directory of your computer and will end with the file or directory that you wish to access."
   ]
  },
  {
   "cell_type": "code",
   "execution_count": 8,
   "id": "f6eeab54",
   "metadata": {},
   "outputs": [],
   "source": [
    "import os.path"
   ]
  },
  {
   "cell_type": "code",
   "execution_count": 9,
   "id": "9e26b3e4",
   "metadata": {},
   "outputs": [],
   "source": [
    "path = '/home/User/Documents'"
   ]
  },
  {
   "cell_type": "code",
   "execution_count": 10,
   "id": "f20eb170",
   "metadata": {},
   "outputs": [],
   "source": [
    "isabs = os.path.isabs(path)"
   ]
  },
  {
   "cell_type": "code",
   "execution_count": 11,
   "id": "150be613",
   "metadata": {},
   "outputs": [
    {
     "name": "stdout",
     "output_type": "stream",
     "text": [
      "True\n"
     ]
    }
   ],
   "source": [
    "print(isabs)"
   ]
  },
  {
   "cell_type": "markdown",
   "id": "02216d82",
   "metadata": {},
   "source": [
    "### 3. What do the functions os.getcwd() and os.chdir() do?"
   ]
  },
  {
   "cell_type": "raw",
   "id": "61a25647",
   "metadata": {},
   "source": [
    "os.chdir() method in Python used to change the current working directory to specified path. It takes only a single argument as new directory path."
   ]
  },
  {
   "cell_type": "code",
   "execution_count": 12,
   "id": "ee750a0e",
   "metadata": {},
   "outputs": [],
   "source": [
    "# import os\n",
    "# os.chdir(r\"C:\\Users\\Gfg\\Desktop\\geeks\")\n",
    "# print(\"Directory changed\")"
   ]
  },
  {
   "cell_type": "raw",
   "id": "aeff676c",
   "metadata": {},
   "source": [
    "To know the current working directory of the file, getcwd() method can be used."
   ]
  },
  {
   "cell_type": "code",
   "execution_count": 14,
   "id": "aef16b95",
   "metadata": {},
   "outputs": [],
   "source": [
    "# import os module\n",
    "#import os\n",
    " \n",
    "# change the current working directory to a specified path\n",
    "#os.chdir('c:\\\\gfg_dir')\n",
    " \n",
    "# verify the path using getcwd()\n",
    "#cwd = os.getcwd()\n",
    " \n",
    "# print the current directory\n",
    "#print(\"Current working directory is:\", cwd)"
   ]
  },
  {
   "cell_type": "markdown",
   "id": "f0ee4c9b",
   "metadata": {},
   "source": [
    "### 4. What are the . and .. folders?"
   ]
  },
  {
   "cell_type": "raw",
   "id": "65bbafe8",
   "metadata": {},
   "source": [
    "A single dot (.) means that the module or package referenced is in the same directory as the current location.\n",
    "Two dots means (..) that it is in the parent directory of the current location, in other words the directory above.\n",
    "Three dots mean(...) that it is in the grandparent directory, and so on."
   ]
  },
  {
   "cell_type": "markdown",
   "id": "61672f2f",
   "metadata": {},
   "source": [
    "### 5. In C:\\bacon\\eggs\\spam.txt, which part is the dir name, and which part is the base name?"
   ]
  },
  {
   "cell_type": "raw",
   "id": "e22a26b0",
   "metadata": {},
   "source": [
    "- dir name = C:\\bacon\\eggs\n",
    "- base (or file) name = spam.txt"
   ]
  },
  {
   "cell_type": "markdown",
   "id": "ee477a48",
   "metadata": {},
   "source": [
    "### 6. What are the three “mode” arguments that can be passed to the open() function?"
   ]
  },
  {
   "cell_type": "raw",
   "id": "7edbeb73",
   "metadata": {},
   "source": [
    "read/readlines, write, and append"
   ]
  },
  {
   "cell_type": "markdown",
   "id": "8643a6a9",
   "metadata": {},
   "source": [
    "### 7. What happens if an existing file is opened in write mode?"
   ]
  },
  {
   "cell_type": "raw",
   "id": "c7a94868",
   "metadata": {},
   "source": [
    "It overwrites the existing file and starts from scratch."
   ]
  },
  {
   "cell_type": "markdown",
   "id": "05a434b4",
   "metadata": {},
   "source": [
    "### 8.\tWhat is the difference between the read() and readlines() methods? "
   ]
  },
  {
   "cell_type": "raw",
   "id": "5cfab52d",
   "metadata": {},
   "source": [
    "The read() method passes the entire file as a string\n",
    "The readlines() method provides a list of string values - one string for each line of text."
   ]
  },
  {
   "cell_type": "markdown",
   "id": "84571e90",
   "metadata": {},
   "source": [
    "### 9. What data structure does a shelf value resemble?"
   ]
  },
  {
   "cell_type": "raw",
   "id": "e0a60fb6",
   "metadata": {},
   "source": [
    "Resembles a dictionary"
   ]
  }
 ],
 "metadata": {
  "kernelspec": {
   "display_name": "Python 3 (ipykernel)",
   "language": "python",
   "name": "python3"
  },
  "language_info": {
   "codemirror_mode": {
    "name": "ipython",
    "version": 3
   },
   "file_extension": ".py",
   "mimetype": "text/x-python",
   "name": "python",
   "nbconvert_exporter": "python",
   "pygments_lexer": "ipython3",
   "version": "3.9.7"
  }
 },
 "nbformat": 4,
 "nbformat_minor": 5
}
